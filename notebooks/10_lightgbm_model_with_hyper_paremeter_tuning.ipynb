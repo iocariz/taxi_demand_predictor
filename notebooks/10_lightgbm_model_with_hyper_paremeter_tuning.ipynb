{
 "cells": [
  {
   "cell_type": "code",
   "execution_count": 11,
   "metadata": {},
   "outputs": [
    {
     "ename": "ValueError",
     "evalue": "list.remove(x): x not in list",
     "output_type": "error",
     "traceback": [
      "\u001b[1;31m---------------------------------------------------------------------------\u001b[0m",
      "\u001b[1;31mValueError\u001b[0m                                Traceback (most recent call last)",
      "Cell \u001b[1;32mIn[11], line 4\u001b[0m\n\u001b[0;32m      2\u001b[0m warnings\u001b[39m.\u001b[39mfilterwarnings(\u001b[39m\"\u001b[39m\u001b[39mignore\u001b[39m\u001b[39m\"\u001b[39m)\n\u001b[0;32m      3\u001b[0m \u001b[39mimport\u001b[39;00m \u001b[39msys\u001b[39;00m\n\u001b[1;32m----> 4\u001b[0m sys\u001b[39m.\u001b[39;49mpath\u001b[39m.\u001b[39;49mremove(\u001b[39m'\u001b[39;49m\u001b[39mc:\u001b[39;49m\u001b[39m\\\\\u001b[39;49;00m\u001b[39mUsers\u001b[39;49m\u001b[39m\\\\\u001b[39;49;00m\u001b[39mPandas\u001b[39;49m\u001b[39m\\\\\u001b[39;49;00m\u001b[39mtaxi_demand_predictor\u001b[39;49m\u001b[39m\\\\\u001b[39;49;00m\u001b[39mnotebooks\u001b[39;49m\u001b[39m'\u001b[39;49m)\n\u001b[0;32m      5\u001b[0m sys\u001b[39m.\u001b[39mpath\u001b[39m.\u001b[39mappend(\u001b[39m'\u001b[39m\u001b[39mc:\u001b[39m\u001b[39m\\\\\u001b[39;00m\u001b[39mUsers\u001b[39m\u001b[39m\\\\\u001b[39;00m\u001b[39mPandas\u001b[39m\u001b[39m\\\\\u001b[39;00m\u001b[39mtaxi_demand_predictor\u001b[39m\u001b[39m\\\\\u001b[39;00m\u001b[39m'\u001b[39m)\n",
      "\u001b[1;31mValueError\u001b[0m: list.remove(x): x not in list"
     ]
    }
   ],
   "source": [
    "import warnings\n",
    "warnings.filterwarnings(\"ignore\")\n",
    "import sys\n",
    "sys.path.remove('c:\\\\Users\\\\Pandas\\\\taxi_demand_predictor\\\\notebooks')\n",
    "sys.path.append('c:\\\\Users\\\\Pandas\\\\taxi_demand_predictor\\\\')"
   ]
  },
  {
   "cell_type": "code",
   "execution_count": null,
   "metadata": {},
   "outputs": [
    {
     "data": {
      "text/html": [
       "<div>\n",
       "<style scoped>\n",
       "    .dataframe tbody tr th:only-of-type {\n",
       "        vertical-align: middle;\n",
       "    }\n",
       "\n",
       "    .dataframe tbody tr th {\n",
       "        vertical-align: top;\n",
       "    }\n",
       "\n",
       "    .dataframe thead th {\n",
       "        text-align: right;\n",
       "    }\n",
       "</style>\n",
       "<table border=\"1\" class=\"dataframe\">\n",
       "  <thead>\n",
       "    <tr style=\"text-align: right;\">\n",
       "      <th></th>\n",
       "      <th>rides_previous_672_hour</th>\n",
       "      <th>rides_previous_671_hour</th>\n",
       "      <th>rides_previous_670_hour</th>\n",
       "      <th>rides_previous_669_hour</th>\n",
       "      <th>rides_previous_668_hour</th>\n",
       "      <th>rides_previous_667_hour</th>\n",
       "      <th>rides_previous_666_hour</th>\n",
       "      <th>rides_previous_665_hour</th>\n",
       "      <th>rides_previous_664_hour</th>\n",
       "      <th>rides_previous_663_hour</th>\n",
       "      <th>...</th>\n",
       "      <th>rides_previous_7_hour</th>\n",
       "      <th>rides_previous_6_hour</th>\n",
       "      <th>rides_previous_5_hour</th>\n",
       "      <th>rides_previous_4_hour</th>\n",
       "      <th>rides_previous_3_hour</th>\n",
       "      <th>rides_previous_2_hour</th>\n",
       "      <th>rides_previous_1_hour</th>\n",
       "      <th>pickup_hour</th>\n",
       "      <th>pickup_location_id</th>\n",
       "      <th>target_rides_next_hour</th>\n",
       "    </tr>\n",
       "  </thead>\n",
       "  <tbody>\n",
       "    <tr>\n",
       "      <th>0</th>\n",
       "      <td>0.0</td>\n",
       "      <td>0.0</td>\n",
       "      <td>0.0</td>\n",
       "      <td>0.0</td>\n",
       "      <td>1.0</td>\n",
       "      <td>1.0</td>\n",
       "      <td>0.0</td>\n",
       "      <td>2.0</td>\n",
       "      <td>0.0</td>\n",
       "      <td>0.0</td>\n",
       "      <td>...</td>\n",
       "      <td>2.0</td>\n",
       "      <td>0.0</td>\n",
       "      <td>1.0</td>\n",
       "      <td>0.0</td>\n",
       "      <td>0.0</td>\n",
       "      <td>0.0</td>\n",
       "      <td>0.0</td>\n",
       "      <td>2022-01-29</td>\n",
       "      <td>1</td>\n",
       "      <td>0.0</td>\n",
       "    </tr>\n",
       "    <tr>\n",
       "      <th>1</th>\n",
       "      <td>0.0</td>\n",
       "      <td>0.0</td>\n",
       "      <td>0.0</td>\n",
       "      <td>0.0</td>\n",
       "      <td>0.0</td>\n",
       "      <td>4.0</td>\n",
       "      <td>1.0</td>\n",
       "      <td>2.0</td>\n",
       "      <td>1.0</td>\n",
       "      <td>2.0</td>\n",
       "      <td>...</td>\n",
       "      <td>0.0</td>\n",
       "      <td>0.0</td>\n",
       "      <td>0.0</td>\n",
       "      <td>0.0</td>\n",
       "      <td>1.0</td>\n",
       "      <td>0.0</td>\n",
       "      <td>0.0</td>\n",
       "      <td>2022-01-30</td>\n",
       "      <td>1</td>\n",
       "      <td>0.0</td>\n",
       "    </tr>\n",
       "    <tr>\n",
       "      <th>2</th>\n",
       "      <td>0.0</td>\n",
       "      <td>0.0</td>\n",
       "      <td>0.0</td>\n",
       "      <td>0.0</td>\n",
       "      <td>0.0</td>\n",
       "      <td>0.0</td>\n",
       "      <td>0.0</td>\n",
       "      <td>2.0</td>\n",
       "      <td>0.0</td>\n",
       "      <td>0.0</td>\n",
       "      <td>...</td>\n",
       "      <td>0.0</td>\n",
       "      <td>1.0</td>\n",
       "      <td>2.0</td>\n",
       "      <td>0.0</td>\n",
       "      <td>0.0</td>\n",
       "      <td>0.0</td>\n",
       "      <td>0.0</td>\n",
       "      <td>2022-01-31</td>\n",
       "      <td>1</td>\n",
       "      <td>0.0</td>\n",
       "    </tr>\n",
       "    <tr>\n",
       "      <th>3</th>\n",
       "      <td>0.0</td>\n",
       "      <td>0.0</td>\n",
       "      <td>0.0</td>\n",
       "      <td>0.0</td>\n",
       "      <td>0.0</td>\n",
       "      <td>0.0</td>\n",
       "      <td>0.0</td>\n",
       "      <td>0.0</td>\n",
       "      <td>1.0</td>\n",
       "      <td>1.0</td>\n",
       "      <td>...</td>\n",
       "      <td>2.0</td>\n",
       "      <td>1.0</td>\n",
       "      <td>0.0</td>\n",
       "      <td>1.0</td>\n",
       "      <td>1.0</td>\n",
       "      <td>0.0</td>\n",
       "      <td>0.0</td>\n",
       "      <td>2022-02-01</td>\n",
       "      <td>1</td>\n",
       "      <td>0.0</td>\n",
       "    </tr>\n",
       "    <tr>\n",
       "      <th>4</th>\n",
       "      <td>0.0</td>\n",
       "      <td>0.0</td>\n",
       "      <td>0.0</td>\n",
       "      <td>0.0</td>\n",
       "      <td>0.0</td>\n",
       "      <td>0.0</td>\n",
       "      <td>0.0</td>\n",
       "      <td>0.0</td>\n",
       "      <td>0.0</td>\n",
       "      <td>0.0</td>\n",
       "      <td>...</td>\n",
       "      <td>0.0</td>\n",
       "      <td>0.0</td>\n",
       "      <td>0.0</td>\n",
       "      <td>0.0</td>\n",
       "      <td>0.0</td>\n",
       "      <td>0.0</td>\n",
       "      <td>0.0</td>\n",
       "      <td>2022-02-02</td>\n",
       "      <td>1</td>\n",
       "      <td>0.0</td>\n",
       "    </tr>\n",
       "    <tr>\n",
       "      <th>...</th>\n",
       "      <td>...</td>\n",
       "      <td>...</td>\n",
       "      <td>...</td>\n",
       "      <td>...</td>\n",
       "      <td>...</td>\n",
       "      <td>...</td>\n",
       "      <td>...</td>\n",
       "      <td>...</td>\n",
       "      <td>...</td>\n",
       "      <td>...</td>\n",
       "      <td>...</td>\n",
       "      <td>...</td>\n",
       "      <td>...</td>\n",
       "      <td>...</td>\n",
       "      <td>...</td>\n",
       "      <td>...</td>\n",
       "      <td>...</td>\n",
       "      <td>...</td>\n",
       "      <td>...</td>\n",
       "      <td>...</td>\n",
       "      <td>...</td>\n",
       "    </tr>\n",
       "    <tr>\n",
       "      <th>73135</th>\n",
       "      <td>3.0</td>\n",
       "      <td>4.0</td>\n",
       "      <td>1.0</td>\n",
       "      <td>1.0</td>\n",
       "      <td>1.0</td>\n",
       "      <td>0.0</td>\n",
       "      <td>1.0</td>\n",
       "      <td>2.0</td>\n",
       "      <td>2.0</td>\n",
       "      <td>3.0</td>\n",
       "      <td>...</td>\n",
       "      <td>29.0</td>\n",
       "      <td>15.0</td>\n",
       "      <td>4.0</td>\n",
       "      <td>12.0</td>\n",
       "      <td>7.0</td>\n",
       "      <td>11.0</td>\n",
       "      <td>4.0</td>\n",
       "      <td>2022-10-27</td>\n",
       "      <td>265</td>\n",
       "      <td>12.0</td>\n",
       "    </tr>\n",
       "    <tr>\n",
       "      <th>73136</th>\n",
       "      <td>9.0</td>\n",
       "      <td>4.0</td>\n",
       "      <td>3.0</td>\n",
       "      <td>3.0</td>\n",
       "      <td>2.0</td>\n",
       "      <td>4.0</td>\n",
       "      <td>2.0</td>\n",
       "      <td>6.0</td>\n",
       "      <td>1.0</td>\n",
       "      <td>3.0</td>\n",
       "      <td>...</td>\n",
       "      <td>29.0</td>\n",
       "      <td>17.0</td>\n",
       "      <td>12.0</td>\n",
       "      <td>4.0</td>\n",
       "      <td>5.0</td>\n",
       "      <td>8.0</td>\n",
       "      <td>9.0</td>\n",
       "      <td>2022-10-28</td>\n",
       "      <td>265</td>\n",
       "      <td>3.0</td>\n",
       "    </tr>\n",
       "    <tr>\n",
       "      <th>73137</th>\n",
       "      <td>7.0</td>\n",
       "      <td>6.0</td>\n",
       "      <td>3.0</td>\n",
       "      <td>4.0</td>\n",
       "      <td>3.0</td>\n",
       "      <td>5.0</td>\n",
       "      <td>7.0</td>\n",
       "      <td>6.0</td>\n",
       "      <td>5.0</td>\n",
       "      <td>10.0</td>\n",
       "      <td>...</td>\n",
       "      <td>29.0</td>\n",
       "      <td>13.0</td>\n",
       "      <td>9.0</td>\n",
       "      <td>10.0</td>\n",
       "      <td>5.0</td>\n",
       "      <td>10.0</td>\n",
       "      <td>7.0</td>\n",
       "      <td>2022-10-29</td>\n",
       "      <td>265</td>\n",
       "      <td>6.0</td>\n",
       "    </tr>\n",
       "    <tr>\n",
       "      <th>73138</th>\n",
       "      <td>6.0</td>\n",
       "      <td>5.0</td>\n",
       "      <td>8.0</td>\n",
       "      <td>6.0</td>\n",
       "      <td>6.0</td>\n",
       "      <td>0.0</td>\n",
       "      <td>1.0</td>\n",
       "      <td>2.0</td>\n",
       "      <td>8.0</td>\n",
       "      <td>6.0</td>\n",
       "      <td>...</td>\n",
       "      <td>8.0</td>\n",
       "      <td>10.0</td>\n",
       "      <td>7.0</td>\n",
       "      <td>3.0</td>\n",
       "      <td>3.0</td>\n",
       "      <td>6.0</td>\n",
       "      <td>2.0</td>\n",
       "      <td>2022-10-30</td>\n",
       "      <td>265</td>\n",
       "      <td>10.0</td>\n",
       "    </tr>\n",
       "    <tr>\n",
       "      <th>73139</th>\n",
       "      <td>8.0</td>\n",
       "      <td>1.0</td>\n",
       "      <td>4.0</td>\n",
       "      <td>0.0</td>\n",
       "      <td>3.0</td>\n",
       "      <td>9.0</td>\n",
       "      <td>17.0</td>\n",
       "      <td>22.0</td>\n",
       "      <td>30.0</td>\n",
       "      <td>12.0</td>\n",
       "      <td>...</td>\n",
       "      <td>11.0</td>\n",
       "      <td>11.0</td>\n",
       "      <td>9.0</td>\n",
       "      <td>4.0</td>\n",
       "      <td>3.0</td>\n",
       "      <td>7.0</td>\n",
       "      <td>4.0</td>\n",
       "      <td>2022-10-31</td>\n",
       "      <td>265</td>\n",
       "      <td>6.0</td>\n",
       "    </tr>\n",
       "  </tbody>\n",
       "</table>\n",
       "<p>73140 rows × 675 columns</p>\n",
       "</div>"
      ],
      "text/plain": [
       "       rides_previous_672_hour  rides_previous_671_hour  \\\n",
       "0                          0.0                      0.0   \n",
       "1                          0.0                      0.0   \n",
       "2                          0.0                      0.0   \n",
       "3                          0.0                      0.0   \n",
       "4                          0.0                      0.0   \n",
       "...                        ...                      ...   \n",
       "73135                      3.0                      4.0   \n",
       "73136                      9.0                      4.0   \n",
       "73137                      7.0                      6.0   \n",
       "73138                      6.0                      5.0   \n",
       "73139                      8.0                      1.0   \n",
       "\n",
       "       rides_previous_670_hour  rides_previous_669_hour  \\\n",
       "0                          0.0                      0.0   \n",
       "1                          0.0                      0.0   \n",
       "2                          0.0                      0.0   \n",
       "3                          0.0                      0.0   \n",
       "4                          0.0                      0.0   \n",
       "...                        ...                      ...   \n",
       "73135                      1.0                      1.0   \n",
       "73136                      3.0                      3.0   \n",
       "73137                      3.0                      4.0   \n",
       "73138                      8.0                      6.0   \n",
       "73139                      4.0                      0.0   \n",
       "\n",
       "       rides_previous_668_hour  rides_previous_667_hour  \\\n",
       "0                          1.0                      1.0   \n",
       "1                          0.0                      4.0   \n",
       "2                          0.0                      0.0   \n",
       "3                          0.0                      0.0   \n",
       "4                          0.0                      0.0   \n",
       "...                        ...                      ...   \n",
       "73135                      1.0                      0.0   \n",
       "73136                      2.0                      4.0   \n",
       "73137                      3.0                      5.0   \n",
       "73138                      6.0                      0.0   \n",
       "73139                      3.0                      9.0   \n",
       "\n",
       "       rides_previous_666_hour  rides_previous_665_hour  \\\n",
       "0                          0.0                      2.0   \n",
       "1                          1.0                      2.0   \n",
       "2                          0.0                      2.0   \n",
       "3                          0.0                      0.0   \n",
       "4                          0.0                      0.0   \n",
       "...                        ...                      ...   \n",
       "73135                      1.0                      2.0   \n",
       "73136                      2.0                      6.0   \n",
       "73137                      7.0                      6.0   \n",
       "73138                      1.0                      2.0   \n",
       "73139                     17.0                     22.0   \n",
       "\n",
       "       rides_previous_664_hour  rides_previous_663_hour  ...  \\\n",
       "0                          0.0                      0.0  ...   \n",
       "1                          1.0                      2.0  ...   \n",
       "2                          0.0                      0.0  ...   \n",
       "3                          1.0                      1.0  ...   \n",
       "4                          0.0                      0.0  ...   \n",
       "...                        ...                      ...  ...   \n",
       "73135                      2.0                      3.0  ...   \n",
       "73136                      1.0                      3.0  ...   \n",
       "73137                      5.0                     10.0  ...   \n",
       "73138                      8.0                      6.0  ...   \n",
       "73139                     30.0                     12.0  ...   \n",
       "\n",
       "       rides_previous_7_hour  rides_previous_6_hour  rides_previous_5_hour  \\\n",
       "0                        2.0                    0.0                    1.0   \n",
       "1                        0.0                    0.0                    0.0   \n",
       "2                        0.0                    1.0                    2.0   \n",
       "3                        2.0                    1.0                    0.0   \n",
       "4                        0.0                    0.0                    0.0   \n",
       "...                      ...                    ...                    ...   \n",
       "73135                   29.0                   15.0                    4.0   \n",
       "73136                   29.0                   17.0                   12.0   \n",
       "73137                   29.0                   13.0                    9.0   \n",
       "73138                    8.0                   10.0                    7.0   \n",
       "73139                   11.0                   11.0                    9.0   \n",
       "\n",
       "       rides_previous_4_hour  rides_previous_3_hour  rides_previous_2_hour  \\\n",
       "0                        0.0                    0.0                    0.0   \n",
       "1                        0.0                    1.0                    0.0   \n",
       "2                        0.0                    0.0                    0.0   \n",
       "3                        1.0                    1.0                    0.0   \n",
       "4                        0.0                    0.0                    0.0   \n",
       "...                      ...                    ...                    ...   \n",
       "73135                   12.0                    7.0                   11.0   \n",
       "73136                    4.0                    5.0                    8.0   \n",
       "73137                   10.0                    5.0                   10.0   \n",
       "73138                    3.0                    3.0                    6.0   \n",
       "73139                    4.0                    3.0                    7.0   \n",
       "\n",
       "       rides_previous_1_hour  pickup_hour  pickup_location_id  \\\n",
       "0                        0.0   2022-01-29                   1   \n",
       "1                        0.0   2022-01-30                   1   \n",
       "2                        0.0   2022-01-31                   1   \n",
       "3                        0.0   2022-02-01                   1   \n",
       "4                        0.0   2022-02-02                   1   \n",
       "...                      ...          ...                 ...   \n",
       "73135                    4.0   2022-10-27                 265   \n",
       "73136                    9.0   2022-10-28                 265   \n",
       "73137                    7.0   2022-10-29                 265   \n",
       "73138                    2.0   2022-10-30                 265   \n",
       "73139                    4.0   2022-10-31                 265   \n",
       "\n",
       "       target_rides_next_hour  \n",
       "0                         0.0  \n",
       "1                         0.0  \n",
       "2                         0.0  \n",
       "3                         0.0  \n",
       "4                         0.0  \n",
       "...                       ...  \n",
       "73135                    12.0  \n",
       "73136                     3.0  \n",
       "73137                     6.0  \n",
       "73138                    10.0  \n",
       "73139                     6.0  \n",
       "\n",
       "[73140 rows x 675 columns]"
      ]
     },
     "execution_count": 2,
     "metadata": {},
     "output_type": "execute_result"
    }
   ],
   "source": [
    "import pandas as pd\n",
    "from src.paths import TRANSFORMED_DATA_DIR\n",
    "\n",
    "df = pd.read_parquet(TRANSFORMED_DATA_DIR / 'tabular_data.parquet')\n",
    "df"
   ]
  },
  {
   "cell_type": "code",
   "execution_count": 12,
   "metadata": {},
   "outputs": [
    {
     "name": "stdout",
     "output_type": "stream",
     "text": [
      "X_train.shape=(32595, 674)\n",
      "y_train.shape=(32595,)\n",
      "X_test.shape=(40545, 674)\n",
      "y_test.shape=(40545,)\n"
     ]
    }
   ],
   "source": [
    "from datetime import datetime\n",
    "from src.data_split import train_test_split\n",
    "\n",
    "X_train, y_train, X_test, y_test = train_test_split(\n",
    "    df,\n",
    "    cutoff_date=datetime(2022, 6, 1, 0, 0, 0),\n",
    "    target_column_name='target_rides_next_hour'\n",
    ")\n",
    "\n",
    "print(f'{X_train.shape=}')\n",
    "print(f'{y_train.shape=}')\n",
    "print(f'{X_test.shape=}')\n",
    "print(f'{y_test.shape=}')"
   ]
  },
  {
   "cell_type": "code",
   "execution_count": 13,
   "metadata": {},
   "outputs": [],
   "source": [
    "import numpy as np\n",
    "from sklearn.model_selection import KFold, TimeSeriesSplit\n",
    "from sklearn.pipeline import make_pipeline\n",
    "from sklearn.metrics import mean_absolute_error\n",
    "import optuna\n",
    "\n",
    "from src.model import get_pipeline\n",
    "\n",
    "def objective(trial: optuna.trial.Trial) -> float:\n",
    "    \"\"\"\n",
    "    Given a set of hyper-parameters, it trains a model and computes an average\n",
    "    validation error based on a TimeSeriesSplit\n",
    "    \"\"\"\n",
    "    # pick hyper-parameters\n",
    "    hyperparams = {\n",
    "        \"metric\": 'mae',\n",
    "        \"verbose\": -1,\n",
    "        \"num_leaves\": trial.suggest_int(\"num_leaves\", 2, 256),\n",
    "        \"feature_fraction\": trial.suggest_float(\"feature_fraction\", 0.2, 1.0),\n",
    "        \"bagging_fraction\": trial.suggest_float(\"bagging_fraction\", 0.2, 1.0),\n",
    "        \"min_child_samples\": trial.suggest_int(\"min_child_samples\", 3, 100),   \n",
    "    }\n",
    "       \n",
    "    tss = TimeSeriesSplit(n_splits=2)\n",
    "    scores = []\n",
    "    for train_index, val_index in tss.split(X_train):\n",
    "\n",
    "        # split data for training and validation\n",
    "        X_train_, X_val_ = X_train.iloc[train_index, :], X_train.iloc[val_index,:]\n",
    "        y_train_, y_val_ = y_train.iloc[train_index], y_train.iloc[val_index]\n",
    "        \n",
    "        # train the model\n",
    "        pipeline = get_pipeline(**hyperparams)\n",
    "        pipeline.fit(X_train_, y_train_)\n",
    "        \n",
    "        # evaluate the model\n",
    "        y_pred = pipeline.predict(X_val_)\n",
    "        mae = mean_absolute_error(y_val_, y_pred)\n",
    "\n",
    "        scores.append(mae)\n",
    "   \n",
    "    # Return the mean score\n",
    "    return np.array(scores).mean()"
   ]
  },
  {
   "cell_type": "code",
   "execution_count": 14,
   "metadata": {},
   "outputs": [
    {
     "name": "stderr",
     "output_type": "stream",
     "text": [
      "[I 2023-07-17 15:29:26,120] A new study created in memory with name: no-name-bb993707-bcc3-4feb-bd1e-2c572b8aacc8\n"
     ]
    },
    {
     "name": "stdout",
     "output_type": "stream",
     "text": [
      "[LightGBM] [Warning] feature_fraction is set=0.9417045297913684, colsample_bytree=1.0 will be ignored. Current value: feature_fraction=0.9417045297913684\n",
      "[LightGBM] [Warning] bagging_fraction is set=0.27870389590306016, subsample=1.0 will be ignored. Current value: bagging_fraction=0.27870389590306016\n",
      "[LightGBM] [Warning] feature_fraction is set=0.9417045297913684, colsample_bytree=1.0 will be ignored. Current value: feature_fraction=0.9417045297913684\n",
      "[LightGBM] [Warning] bagging_fraction is set=0.27870389590306016, subsample=1.0 will be ignored. Current value: bagging_fraction=0.27870389590306016\n"
     ]
    },
    {
     "name": "stderr",
     "output_type": "stream",
     "text": [
      "[I 2023-07-17 15:29:35,881] Trial 0 finished with value: 3.4922321166040358 and parameters: {'num_leaves': 208, 'feature_fraction': 0.9417045297913684, 'bagging_fraction': 0.27870389590306016, 'min_child_samples': 9}. Best is trial 0 with value: 3.4922321166040358.\n"
     ]
    },
    {
     "name": "stdout",
     "output_type": "stream",
     "text": [
      "[LightGBM] [Warning] feature_fraction is set=0.95806104479271, colsample_bytree=1.0 will be ignored. Current value: feature_fraction=0.95806104479271\n",
      "[LightGBM] [Warning] bagging_fraction is set=0.9606205582054714, subsample=1.0 will be ignored. Current value: bagging_fraction=0.9606205582054714\n",
      "[LightGBM] [Warning] feature_fraction is set=0.95806104479271, colsample_bytree=1.0 will be ignored. Current value: feature_fraction=0.95806104479271\n",
      "[LightGBM] [Warning] bagging_fraction is set=0.9606205582054714, subsample=1.0 will be ignored. Current value: bagging_fraction=0.9606205582054714\n"
     ]
    },
    {
     "name": "stderr",
     "output_type": "stream",
     "text": [
      "[I 2023-07-17 15:29:41,523] Trial 1 finished with value: 3.3370644957510938 and parameters: {'num_leaves': 112, 'feature_fraction': 0.95806104479271, 'bagging_fraction': 0.9606205582054714, 'min_child_samples': 35}. Best is trial 1 with value: 3.3370644957510938.\n"
     ]
    },
    {
     "name": "stdout",
     "output_type": "stream",
     "text": [
      "[LightGBM] [Warning] feature_fraction is set=0.905694329460017, colsample_bytree=1.0 will be ignored. Current value: feature_fraction=0.905694329460017\n",
      "[LightGBM] [Warning] bagging_fraction is set=0.44586093984145336, subsample=1.0 will be ignored. Current value: bagging_fraction=0.44586093984145336\n",
      "[LightGBM] [Warning] feature_fraction is set=0.905694329460017, colsample_bytree=1.0 will be ignored. Current value: feature_fraction=0.905694329460017\n",
      "[LightGBM] [Warning] bagging_fraction is set=0.44586093984145336, subsample=1.0 will be ignored. Current value: bagging_fraction=0.44586093984145336\n"
     ]
    },
    {
     "name": "stderr",
     "output_type": "stream",
     "text": [
      "[I 2023-07-17 15:29:44,797] Trial 2 finished with value: 3.70600502132075 and parameters: {'num_leaves': 46, 'feature_fraction': 0.905694329460017, 'bagging_fraction': 0.44586093984145336, 'min_child_samples': 82}. Best is trial 1 with value: 3.3370644957510938.\n"
     ]
    },
    {
     "name": "stdout",
     "output_type": "stream",
     "text": [
      "[LightGBM] [Warning] feature_fraction is set=0.7928785105346245, colsample_bytree=1.0 will be ignored. Current value: feature_fraction=0.7928785105346245\n",
      "[LightGBM] [Warning] bagging_fraction is set=0.7413057187654022, subsample=1.0 will be ignored. Current value: bagging_fraction=0.7413057187654022\n",
      "[LightGBM] [Warning] feature_fraction is set=0.7928785105346245, colsample_bytree=1.0 will be ignored. Current value: feature_fraction=0.7928785105346245\n",
      "[LightGBM] [Warning] bagging_fraction is set=0.7413057187654022, subsample=1.0 will be ignored. Current value: bagging_fraction=0.7413057187654022\n"
     ]
    },
    {
     "name": "stderr",
     "output_type": "stream",
     "text": [
      "[I 2023-07-17 15:29:51,343] Trial 3 finished with value: 3.4050934867057707 and parameters: {'num_leaves': 155, 'feature_fraction': 0.7928785105346245, 'bagging_fraction': 0.7413057187654022, 'min_child_samples': 43}. Best is trial 1 with value: 3.3370644957510938.\n"
     ]
    },
    {
     "name": "stdout",
     "output_type": "stream",
     "text": [
      "[LightGBM] [Warning] feature_fraction is set=0.8165698851035628, colsample_bytree=1.0 will be ignored. Current value: feature_fraction=0.8165698851035628\n",
      "[LightGBM] [Warning] bagging_fraction is set=0.7565556163327942, subsample=1.0 will be ignored. Current value: bagging_fraction=0.7565556163327942\n",
      "[LightGBM] [Warning] feature_fraction is set=0.8165698851035628, colsample_bytree=1.0 will be ignored. Current value: feature_fraction=0.8165698851035628\n",
      "[LightGBM] [Warning] bagging_fraction is set=0.7565556163327942, subsample=1.0 will be ignored. Current value: bagging_fraction=0.7565556163327942\n"
     ]
    },
    {
     "name": "stderr",
     "output_type": "stream",
     "text": [
      "[I 2023-07-17 15:30:00,902] Trial 4 finished with value: 3.356321646146511 and parameters: {'num_leaves': 219, 'feature_fraction': 0.8165698851035628, 'bagging_fraction': 0.7565556163327942, 'min_child_samples': 10}. Best is trial 1 with value: 3.3370644957510938.\n"
     ]
    }
   ],
   "source": [
    "study = optuna.create_study(direction=\"minimize\")\n",
    "study.optimize(objective, n_trials=5)"
   ]
  },
  {
   "cell_type": "code",
   "execution_count": 15,
   "metadata": {},
   "outputs": [
    {
     "name": "stdout",
     "output_type": "stream",
     "text": [
      "best_params={'num_leaves': 112, 'feature_fraction': 0.95806104479271, 'bagging_fraction': 0.9606205582054714, 'min_child_samples': 35}\n"
     ]
    }
   ],
   "source": [
    "\n",
    "best_params = study.best_trial.params\n",
    "print(f'{best_params=}')"
   ]
  },
  {
   "cell_type": "code",
   "execution_count": 16,
   "metadata": {},
   "outputs": [
    {
     "name": "stdout",
     "output_type": "stream",
     "text": [
      "[LightGBM] [Warning] feature_fraction is set=0.95806104479271, colsample_bytree=1.0 will be ignored. Current value: feature_fraction=0.95806104479271\n",
      "[LightGBM] [Warning] bagging_fraction is set=0.9606205582054714, subsample=1.0 will be ignored. Current value: bagging_fraction=0.9606205582054714\n"
     ]
    },
    {
     "data": {
      "text/html": [
       "<style>#sk-container-id-2 {color: black;background-color: white;}#sk-container-id-2 pre{padding: 0;}#sk-container-id-2 div.sk-toggleable {background-color: white;}#sk-container-id-2 label.sk-toggleable__label {cursor: pointer;display: block;width: 100%;margin-bottom: 0;padding: 0.3em;box-sizing: border-box;text-align: center;}#sk-container-id-2 label.sk-toggleable__label-arrow:before {content: \"▸\";float: left;margin-right: 0.25em;color: #696969;}#sk-container-id-2 label.sk-toggleable__label-arrow:hover:before {color: black;}#sk-container-id-2 div.sk-estimator:hover label.sk-toggleable__label-arrow:before {color: black;}#sk-container-id-2 div.sk-toggleable__content {max-height: 0;max-width: 0;overflow: hidden;text-align: left;background-color: #f0f8ff;}#sk-container-id-2 div.sk-toggleable__content pre {margin: 0.2em;color: black;border-radius: 0.25em;background-color: #f0f8ff;}#sk-container-id-2 input.sk-toggleable__control:checked~div.sk-toggleable__content {max-height: 200px;max-width: 100%;overflow: auto;}#sk-container-id-2 input.sk-toggleable__control:checked~label.sk-toggleable__label-arrow:before {content: \"▾\";}#sk-container-id-2 div.sk-estimator input.sk-toggleable__control:checked~label.sk-toggleable__label {background-color: #d4ebff;}#sk-container-id-2 div.sk-label input.sk-toggleable__control:checked~label.sk-toggleable__label {background-color: #d4ebff;}#sk-container-id-2 input.sk-hidden--visually {border: 0;clip: rect(1px 1px 1px 1px);clip: rect(1px, 1px, 1px, 1px);height: 1px;margin: -1px;overflow: hidden;padding: 0;position: absolute;width: 1px;}#sk-container-id-2 div.sk-estimator {font-family: monospace;background-color: #f0f8ff;border: 1px dotted black;border-radius: 0.25em;box-sizing: border-box;margin-bottom: 0.5em;}#sk-container-id-2 div.sk-estimator:hover {background-color: #d4ebff;}#sk-container-id-2 div.sk-parallel-item::after {content: \"\";width: 100%;border-bottom: 1px solid gray;flex-grow: 1;}#sk-container-id-2 div.sk-label:hover label.sk-toggleable__label {background-color: #d4ebff;}#sk-container-id-2 div.sk-serial::before {content: \"\";position: absolute;border-left: 1px solid gray;box-sizing: border-box;top: 0;bottom: 0;left: 50%;z-index: 0;}#sk-container-id-2 div.sk-serial {display: flex;flex-direction: column;align-items: center;background-color: white;padding-right: 0.2em;padding-left: 0.2em;position: relative;}#sk-container-id-2 div.sk-item {position: relative;z-index: 1;}#sk-container-id-2 div.sk-parallel {display: flex;align-items: stretch;justify-content: center;background-color: white;position: relative;}#sk-container-id-2 div.sk-item::before, #sk-container-id-2 div.sk-parallel-item::before {content: \"\";position: absolute;border-left: 1px solid gray;box-sizing: border-box;top: 0;bottom: 0;left: 50%;z-index: -1;}#sk-container-id-2 div.sk-parallel-item {display: flex;flex-direction: column;z-index: 1;position: relative;background-color: white;}#sk-container-id-2 div.sk-parallel-item:first-child::after {align-self: flex-end;width: 50%;}#sk-container-id-2 div.sk-parallel-item:last-child::after {align-self: flex-start;width: 50%;}#sk-container-id-2 div.sk-parallel-item:only-child::after {width: 0;}#sk-container-id-2 div.sk-dashed-wrapped {border: 1px dashed gray;margin: 0 0.4em 0.5em 0.4em;box-sizing: border-box;padding-bottom: 0.4em;background-color: white;}#sk-container-id-2 div.sk-label label {font-family: monospace;font-weight: bold;display: inline-block;line-height: 1.2em;}#sk-container-id-2 div.sk-label-container {text-align: center;}#sk-container-id-2 div.sk-container {/* jupyter's `normalize.less` sets `[hidden] { display: none; }` but bootstrap.min.css set `[hidden] { display: none !important; }` so we also need the `!important` here to be able to override the default hidden behavior on the sphinx rendered scikit-learn.org. See: https://github.com/scikit-learn/scikit-learn/issues/21755 */display: inline-block !important;position: relative;}#sk-container-id-2 div.sk-text-repr-fallback {display: none;}</style><div id=\"sk-container-id-2\" class=\"sk-top-container\"><div class=\"sk-text-repr-fallback\"><pre>Pipeline(steps=[(&#x27;functiontransformer&#x27;,\n",
       "                 FunctionTransformer(func=&lt;function average_rides_last_4_weeks at 0x000002BDC1418AE0&gt;)),\n",
       "                (&#x27;temporalfeaturesengineer&#x27;, TemporalFeaturesEngineer()),\n",
       "                (&#x27;lgbmregressor&#x27;,\n",
       "                 LGBMRegressor(bagging_fraction=0.9606205582054714,\n",
       "                               feature_fraction=0.95806104479271,\n",
       "                               min_child_samples=35, num_leaves=112))])</pre><b>In a Jupyter environment, please rerun this cell to show the HTML representation or trust the notebook. <br />On GitHub, the HTML representation is unable to render, please try loading this page with nbviewer.org.</b></div><div class=\"sk-container\" hidden><div class=\"sk-item sk-dashed-wrapped\"><div class=\"sk-label-container\"><div class=\"sk-label sk-toggleable\"><input class=\"sk-toggleable__control sk-hidden--visually\" id=\"sk-estimator-id-5\" type=\"checkbox\" ><label for=\"sk-estimator-id-5\" class=\"sk-toggleable__label sk-toggleable__label-arrow\">Pipeline</label><div class=\"sk-toggleable__content\"><pre>Pipeline(steps=[(&#x27;functiontransformer&#x27;,\n",
       "                 FunctionTransformer(func=&lt;function average_rides_last_4_weeks at 0x000002BDC1418AE0&gt;)),\n",
       "                (&#x27;temporalfeaturesengineer&#x27;, TemporalFeaturesEngineer()),\n",
       "                (&#x27;lgbmregressor&#x27;,\n",
       "                 LGBMRegressor(bagging_fraction=0.9606205582054714,\n",
       "                               feature_fraction=0.95806104479271,\n",
       "                               min_child_samples=35, num_leaves=112))])</pre></div></div></div><div class=\"sk-serial\"><div class=\"sk-item\"><div class=\"sk-estimator sk-toggleable\"><input class=\"sk-toggleable__control sk-hidden--visually\" id=\"sk-estimator-id-6\" type=\"checkbox\" ><label for=\"sk-estimator-id-6\" class=\"sk-toggleable__label sk-toggleable__label-arrow\">FunctionTransformer</label><div class=\"sk-toggleable__content\"><pre>FunctionTransformer(func=&lt;function average_rides_last_4_weeks at 0x000002BDC1418AE0&gt;)</pre></div></div></div><div class=\"sk-item\"><div class=\"sk-estimator sk-toggleable\"><input class=\"sk-toggleable__control sk-hidden--visually\" id=\"sk-estimator-id-7\" type=\"checkbox\" ><label for=\"sk-estimator-id-7\" class=\"sk-toggleable__label sk-toggleable__label-arrow\">TemporalFeaturesEngineer</label><div class=\"sk-toggleable__content\"><pre>TemporalFeaturesEngineer()</pre></div></div></div><div class=\"sk-item\"><div class=\"sk-estimator sk-toggleable\"><input class=\"sk-toggleable__control sk-hidden--visually\" id=\"sk-estimator-id-8\" type=\"checkbox\" ><label for=\"sk-estimator-id-8\" class=\"sk-toggleable__label sk-toggleable__label-arrow\">LGBMRegressor</label><div class=\"sk-toggleable__content\"><pre>LGBMRegressor(bagging_fraction=0.9606205582054714,\n",
       "              feature_fraction=0.95806104479271, min_child_samples=35,\n",
       "              num_leaves=112)</pre></div></div></div></div></div></div></div>"
      ],
      "text/plain": [
       "Pipeline(steps=[('functiontransformer',\n",
       "                 FunctionTransformer(func=<function average_rides_last_4_weeks at 0x000002BDC1418AE0>)),\n",
       "                ('temporalfeaturesengineer', TemporalFeaturesEngineer()),\n",
       "                ('lgbmregressor',\n",
       "                 LGBMRegressor(bagging_fraction=0.9606205582054714,\n",
       "                               feature_fraction=0.95806104479271,\n",
       "                               min_child_samples=35, num_leaves=112))])"
      ]
     },
     "execution_count": 16,
     "metadata": {},
     "output_type": "execute_result"
    }
   ],
   "source": [
    "pipeline = get_pipeline(**best_params)\n",
    "pipeline.fit(X_train, y_train)"
   ]
  },
  {
   "cell_type": "code",
   "execution_count": 17,
   "metadata": {},
   "outputs": [
    {
     "name": "stdout",
     "output_type": "stream",
     "text": [
      "test_mae=2.4254\n"
     ]
    }
   ],
   "source": [
    "predictions = pipeline.predict(X_test)\n",
    "test_mae = mean_absolute_error(y_test, predictions)\n",
    "print(f'{test_mae=:.4f}')"
   ]
  },
  {
   "cell_type": "code",
   "execution_count": 27,
   "metadata": {},
   "outputs": [
    {
     "data": {
      "application/vnd.plotly.v1+json": {
       "config": {
        "plotlyServerURL": "https://plot.ly"
       },
       "data": [
        {
         "hovertemplate": "x=%{x}<br>y=%{y}<extra></extra>",
         "legendgroup": "",
         "line": {
          "color": "#636efa",
          "dash": "solid"
         },
         "marker": {
          "symbol": "circle"
         },
         "mode": "markers+lines",
         "name": "",
         "orientation": "v",
         "showlegend": false,
         "type": "scatter",
         "x": [
          "2022-10-02T00:00:00",
          "2022-10-02T01:00:00",
          "2022-10-02T02:00:00",
          "2022-10-02T03:00:00",
          "2022-10-02T04:00:00",
          "2022-10-02T05:00:00",
          "2022-10-02T06:00:00",
          "2022-10-02T07:00:00",
          "2022-10-02T08:00:00",
          "2022-10-02T09:00:00",
          "2022-10-02T10:00:00",
          "2022-10-02T11:00:00",
          "2022-10-02T12:00:00",
          "2022-10-02T13:00:00",
          "2022-10-02T14:00:00",
          "2022-10-02T15:00:00",
          "2022-10-02T16:00:00",
          "2022-10-02T17:00:00",
          "2022-10-02T18:00:00",
          "2022-10-02T19:00:00",
          "2022-10-02T20:00:00",
          "2022-10-02T21:00:00",
          "2022-10-02T22:00:00",
          "2022-10-02T23:00:00",
          "2022-10-03T00:00:00",
          "2022-10-03T01:00:00",
          "2022-10-03T02:00:00",
          "2022-10-03T03:00:00",
          "2022-10-03T04:00:00",
          "2022-10-03T05:00:00",
          "2022-10-03T06:00:00",
          "2022-10-03T07:00:00",
          "2022-10-03T08:00:00",
          "2022-10-03T09:00:00",
          "2022-10-03T10:00:00",
          "2022-10-03T11:00:00",
          "2022-10-03T12:00:00",
          "2022-10-03T13:00:00",
          "2022-10-03T14:00:00",
          "2022-10-03T15:00:00",
          "2022-10-03T16:00:00",
          "2022-10-03T17:00:00",
          "2022-10-03T18:00:00",
          "2022-10-03T19:00:00",
          "2022-10-03T20:00:00",
          "2022-10-03T21:00:00",
          "2022-10-03T22:00:00",
          "2022-10-03T23:00:00",
          "2022-10-04T00:00:00",
          "2022-10-04T01:00:00",
          "2022-10-04T02:00:00",
          "2022-10-04T03:00:00",
          "2022-10-04T04:00:00",
          "2022-10-04T05:00:00",
          "2022-10-04T06:00:00",
          "2022-10-04T07:00:00",
          "2022-10-04T08:00:00",
          "2022-10-04T09:00:00",
          "2022-10-04T10:00:00",
          "2022-10-04T11:00:00",
          "2022-10-04T12:00:00",
          "2022-10-04T13:00:00",
          "2022-10-04T14:00:00",
          "2022-10-04T15:00:00",
          "2022-10-04T16:00:00",
          "2022-10-04T17:00:00",
          "2022-10-04T18:00:00",
          "2022-10-04T19:00:00",
          "2022-10-04T20:00:00",
          "2022-10-04T21:00:00",
          "2022-10-04T22:00:00",
          "2022-10-04T23:00:00",
          "2022-10-05T00:00:00",
          "2022-10-05T01:00:00",
          "2022-10-05T02:00:00",
          "2022-10-05T03:00:00",
          "2022-10-05T04:00:00",
          "2022-10-05T05:00:00",
          "2022-10-05T06:00:00",
          "2022-10-05T07:00:00",
          "2022-10-05T08:00:00",
          "2022-10-05T09:00:00",
          "2022-10-05T10:00:00",
          "2022-10-05T11:00:00",
          "2022-10-05T12:00:00",
          "2022-10-05T13:00:00",
          "2022-10-05T14:00:00",
          "2022-10-05T15:00:00",
          "2022-10-05T16:00:00",
          "2022-10-05T17:00:00",
          "2022-10-05T18:00:00",
          "2022-10-05T19:00:00",
          "2022-10-05T20:00:00",
          "2022-10-05T21:00:00",
          "2022-10-05T22:00:00",
          "2022-10-05T23:00:00",
          "2022-10-06T00:00:00",
          "2022-10-06T01:00:00",
          "2022-10-06T02:00:00",
          "2022-10-06T03:00:00",
          "2022-10-06T04:00:00",
          "2022-10-06T05:00:00",
          "2022-10-06T06:00:00",
          "2022-10-06T07:00:00",
          "2022-10-06T08:00:00",
          "2022-10-06T09:00:00",
          "2022-10-06T10:00:00",
          "2022-10-06T11:00:00",
          "2022-10-06T12:00:00",
          "2022-10-06T13:00:00",
          "2022-10-06T14:00:00",
          "2022-10-06T15:00:00",
          "2022-10-06T16:00:00",
          "2022-10-06T17:00:00",
          "2022-10-06T18:00:00",
          "2022-10-06T19:00:00",
          "2022-10-06T20:00:00",
          "2022-10-06T21:00:00",
          "2022-10-06T22:00:00",
          "2022-10-06T23:00:00",
          "2022-10-07T00:00:00",
          "2022-10-07T01:00:00",
          "2022-10-07T02:00:00",
          "2022-10-07T03:00:00",
          "2022-10-07T04:00:00",
          "2022-10-07T05:00:00",
          "2022-10-07T06:00:00",
          "2022-10-07T07:00:00",
          "2022-10-07T08:00:00",
          "2022-10-07T09:00:00",
          "2022-10-07T10:00:00",
          "2022-10-07T11:00:00",
          "2022-10-07T12:00:00",
          "2022-10-07T13:00:00",
          "2022-10-07T14:00:00",
          "2022-10-07T15:00:00",
          "2022-10-07T16:00:00",
          "2022-10-07T17:00:00",
          "2022-10-07T18:00:00",
          "2022-10-07T19:00:00",
          "2022-10-07T20:00:00",
          "2022-10-07T21:00:00",
          "2022-10-07T22:00:00",
          "2022-10-07T23:00:00",
          "2022-10-08T00:00:00",
          "2022-10-08T01:00:00",
          "2022-10-08T02:00:00",
          "2022-10-08T03:00:00",
          "2022-10-08T04:00:00",
          "2022-10-08T05:00:00",
          "2022-10-08T06:00:00",
          "2022-10-08T07:00:00",
          "2022-10-08T08:00:00",
          "2022-10-08T09:00:00",
          "2022-10-08T10:00:00",
          "2022-10-08T11:00:00",
          "2022-10-08T12:00:00",
          "2022-10-08T13:00:00",
          "2022-10-08T14:00:00",
          "2022-10-08T15:00:00",
          "2022-10-08T16:00:00",
          "2022-10-08T17:00:00",
          "2022-10-08T18:00:00",
          "2022-10-08T19:00:00",
          "2022-10-08T20:00:00",
          "2022-10-08T21:00:00",
          "2022-10-08T22:00:00",
          "2022-10-08T23:00:00",
          "2022-10-09T00:00:00",
          "2022-10-09T01:00:00",
          "2022-10-09T02:00:00",
          "2022-10-09T03:00:00",
          "2022-10-09T04:00:00",
          "2022-10-09T05:00:00",
          "2022-10-09T06:00:00",
          "2022-10-09T07:00:00",
          "2022-10-09T08:00:00",
          "2022-10-09T09:00:00",
          "2022-10-09T10:00:00",
          "2022-10-09T11:00:00",
          "2022-10-09T12:00:00",
          "2022-10-09T13:00:00",
          "2022-10-09T14:00:00",
          "2022-10-09T15:00:00",
          "2022-10-09T16:00:00",
          "2022-10-09T17:00:00",
          "2022-10-09T18:00:00",
          "2022-10-09T19:00:00",
          "2022-10-09T20:00:00",
          "2022-10-09T21:00:00",
          "2022-10-09T22:00:00",
          "2022-10-09T23:00:00",
          "2022-10-10T00:00:00",
          "2022-10-10T01:00:00",
          "2022-10-10T02:00:00",
          "2022-10-10T03:00:00",
          "2022-10-10T04:00:00",
          "2022-10-10T05:00:00",
          "2022-10-10T06:00:00",
          "2022-10-10T07:00:00",
          "2022-10-10T08:00:00",
          "2022-10-10T09:00:00",
          "2022-10-10T10:00:00",
          "2022-10-10T11:00:00",
          "2022-10-10T12:00:00",
          "2022-10-10T13:00:00",
          "2022-10-10T14:00:00",
          "2022-10-10T15:00:00",
          "2022-10-10T16:00:00",
          "2022-10-10T17:00:00",
          "2022-10-10T18:00:00",
          "2022-10-10T19:00:00",
          "2022-10-10T20:00:00",
          "2022-10-10T21:00:00",
          "2022-10-10T22:00:00",
          "2022-10-10T23:00:00",
          "2022-10-11T00:00:00",
          "2022-10-11T01:00:00",
          "2022-10-11T02:00:00",
          "2022-10-11T03:00:00",
          "2022-10-11T04:00:00",
          "2022-10-11T05:00:00",
          "2022-10-11T06:00:00",
          "2022-10-11T07:00:00",
          "2022-10-11T08:00:00",
          "2022-10-11T09:00:00",
          "2022-10-11T10:00:00",
          "2022-10-11T11:00:00",
          "2022-10-11T12:00:00",
          "2022-10-11T13:00:00",
          "2022-10-11T14:00:00",
          "2022-10-11T15:00:00",
          "2022-10-11T16:00:00",
          "2022-10-11T17:00:00",
          "2022-10-11T18:00:00",
          "2022-10-11T19:00:00",
          "2022-10-11T20:00:00",
          "2022-10-11T21:00:00",
          "2022-10-11T22:00:00",
          "2022-10-11T23:00:00",
          "2022-10-12T00:00:00",
          "2022-10-12T01:00:00",
          "2022-10-12T02:00:00",
          "2022-10-12T03:00:00",
          "2022-10-12T04:00:00",
          "2022-10-12T05:00:00",
          "2022-10-12T06:00:00",
          "2022-10-12T07:00:00",
          "2022-10-12T08:00:00",
          "2022-10-12T09:00:00",
          "2022-10-12T10:00:00",
          "2022-10-12T11:00:00",
          "2022-10-12T12:00:00",
          "2022-10-12T13:00:00",
          "2022-10-12T14:00:00",
          "2022-10-12T15:00:00",
          "2022-10-12T16:00:00",
          "2022-10-12T17:00:00",
          "2022-10-12T18:00:00",
          "2022-10-12T19:00:00",
          "2022-10-12T20:00:00",
          "2022-10-12T21:00:00",
          "2022-10-12T22:00:00",
          "2022-10-12T23:00:00",
          "2022-10-13T00:00:00",
          "2022-10-13T01:00:00",
          "2022-10-13T02:00:00",
          "2022-10-13T03:00:00",
          "2022-10-13T04:00:00",
          "2022-10-13T05:00:00",
          "2022-10-13T06:00:00",
          "2022-10-13T07:00:00",
          "2022-10-13T08:00:00",
          "2022-10-13T09:00:00",
          "2022-10-13T10:00:00",
          "2022-10-13T11:00:00",
          "2022-10-13T12:00:00",
          "2022-10-13T13:00:00",
          "2022-10-13T14:00:00",
          "2022-10-13T15:00:00",
          "2022-10-13T16:00:00",
          "2022-10-13T17:00:00",
          "2022-10-13T18:00:00",
          "2022-10-13T19:00:00",
          "2022-10-13T20:00:00",
          "2022-10-13T21:00:00",
          "2022-10-13T22:00:00",
          "2022-10-13T23:00:00",
          "2022-10-14T00:00:00",
          "2022-10-14T01:00:00",
          "2022-10-14T02:00:00",
          "2022-10-14T03:00:00",
          "2022-10-14T04:00:00",
          "2022-10-14T05:00:00",
          "2022-10-14T06:00:00",
          "2022-10-14T07:00:00",
          "2022-10-14T08:00:00",
          "2022-10-14T09:00:00",
          "2022-10-14T10:00:00",
          "2022-10-14T11:00:00",
          "2022-10-14T12:00:00",
          "2022-10-14T13:00:00",
          "2022-10-14T14:00:00",
          "2022-10-14T15:00:00",
          "2022-10-14T16:00:00",
          "2022-10-14T17:00:00",
          "2022-10-14T18:00:00",
          "2022-10-14T19:00:00",
          "2022-10-14T20:00:00",
          "2022-10-14T21:00:00",
          "2022-10-14T22:00:00",
          "2022-10-14T23:00:00",
          "2022-10-15T00:00:00",
          "2022-10-15T01:00:00",
          "2022-10-15T02:00:00",
          "2022-10-15T03:00:00",
          "2022-10-15T04:00:00",
          "2022-10-15T05:00:00",
          "2022-10-15T06:00:00",
          "2022-10-15T07:00:00",
          "2022-10-15T08:00:00",
          "2022-10-15T09:00:00",
          "2022-10-15T10:00:00",
          "2022-10-15T11:00:00",
          "2022-10-15T12:00:00",
          "2022-10-15T13:00:00",
          "2022-10-15T14:00:00",
          "2022-10-15T15:00:00",
          "2022-10-15T16:00:00",
          "2022-10-15T17:00:00",
          "2022-10-15T18:00:00",
          "2022-10-15T19:00:00",
          "2022-10-15T20:00:00",
          "2022-10-15T21:00:00",
          "2022-10-15T22:00:00",
          "2022-10-15T23:00:00",
          "2022-10-16T00:00:00",
          "2022-10-16T01:00:00",
          "2022-10-16T02:00:00",
          "2022-10-16T03:00:00",
          "2022-10-16T04:00:00",
          "2022-10-16T05:00:00",
          "2022-10-16T06:00:00",
          "2022-10-16T07:00:00",
          "2022-10-16T08:00:00",
          "2022-10-16T09:00:00",
          "2022-10-16T10:00:00",
          "2022-10-16T11:00:00",
          "2022-10-16T12:00:00",
          "2022-10-16T13:00:00",
          "2022-10-16T14:00:00",
          "2022-10-16T15:00:00",
          "2022-10-16T16:00:00",
          "2022-10-16T17:00:00",
          "2022-10-16T18:00:00",
          "2022-10-16T19:00:00",
          "2022-10-16T20:00:00",
          "2022-10-16T21:00:00",
          "2022-10-16T22:00:00",
          "2022-10-16T23:00:00",
          "2022-10-17T00:00:00",
          "2022-10-17T01:00:00",
          "2022-10-17T02:00:00",
          "2022-10-17T03:00:00",
          "2022-10-17T04:00:00",
          "2022-10-17T05:00:00",
          "2022-10-17T06:00:00",
          "2022-10-17T07:00:00",
          "2022-10-17T08:00:00",
          "2022-10-17T09:00:00",
          "2022-10-17T10:00:00",
          "2022-10-17T11:00:00",
          "2022-10-17T12:00:00",
          "2022-10-17T13:00:00",
          "2022-10-17T14:00:00",
          "2022-10-17T15:00:00",
          "2022-10-17T16:00:00",
          "2022-10-17T17:00:00",
          "2022-10-17T18:00:00",
          "2022-10-17T19:00:00",
          "2022-10-17T20:00:00",
          "2022-10-17T21:00:00",
          "2022-10-17T22:00:00",
          "2022-10-17T23:00:00",
          "2022-10-18T00:00:00",
          "2022-10-18T01:00:00",
          "2022-10-18T02:00:00",
          "2022-10-18T03:00:00",
          "2022-10-18T04:00:00",
          "2022-10-18T05:00:00",
          "2022-10-18T06:00:00",
          "2022-10-18T07:00:00",
          "2022-10-18T08:00:00",
          "2022-10-18T09:00:00",
          "2022-10-18T10:00:00",
          "2022-10-18T11:00:00",
          "2022-10-18T12:00:00",
          "2022-10-18T13:00:00",
          "2022-10-18T14:00:00",
          "2022-10-18T15:00:00",
          "2022-10-18T16:00:00",
          "2022-10-18T17:00:00",
          "2022-10-18T18:00:00",
          "2022-10-18T19:00:00",
          "2022-10-18T20:00:00",
          "2022-10-18T21:00:00",
          "2022-10-18T22:00:00",
          "2022-10-18T23:00:00",
          "2022-10-19T00:00:00",
          "2022-10-19T01:00:00",
          "2022-10-19T02:00:00",
          "2022-10-19T03:00:00",
          "2022-10-19T04:00:00",
          "2022-10-19T05:00:00",
          "2022-10-19T06:00:00",
          "2022-10-19T07:00:00",
          "2022-10-19T08:00:00",
          "2022-10-19T09:00:00",
          "2022-10-19T10:00:00",
          "2022-10-19T11:00:00",
          "2022-10-19T12:00:00",
          "2022-10-19T13:00:00",
          "2022-10-19T14:00:00",
          "2022-10-19T15:00:00",
          "2022-10-19T16:00:00",
          "2022-10-19T17:00:00",
          "2022-10-19T18:00:00",
          "2022-10-19T19:00:00",
          "2022-10-19T20:00:00",
          "2022-10-19T21:00:00",
          "2022-10-19T22:00:00",
          "2022-10-19T23:00:00",
          "2022-10-20T00:00:00",
          "2022-10-20T01:00:00",
          "2022-10-20T02:00:00",
          "2022-10-20T03:00:00",
          "2022-10-20T04:00:00",
          "2022-10-20T05:00:00",
          "2022-10-20T06:00:00",
          "2022-10-20T07:00:00",
          "2022-10-20T08:00:00",
          "2022-10-20T09:00:00",
          "2022-10-20T10:00:00",
          "2022-10-20T11:00:00",
          "2022-10-20T12:00:00",
          "2022-10-20T13:00:00",
          "2022-10-20T14:00:00",
          "2022-10-20T15:00:00",
          "2022-10-20T16:00:00",
          "2022-10-20T17:00:00",
          "2022-10-20T18:00:00",
          "2022-10-20T19:00:00",
          "2022-10-20T20:00:00",
          "2022-10-20T21:00:00",
          "2022-10-20T22:00:00",
          "2022-10-20T23:00:00",
          "2022-10-21T00:00:00",
          "2022-10-21T01:00:00",
          "2022-10-21T02:00:00",
          "2022-10-21T03:00:00",
          "2022-10-21T04:00:00",
          "2022-10-21T05:00:00",
          "2022-10-21T06:00:00",
          "2022-10-21T07:00:00",
          "2022-10-21T08:00:00",
          "2022-10-21T09:00:00",
          "2022-10-21T10:00:00",
          "2022-10-21T11:00:00",
          "2022-10-21T12:00:00",
          "2022-10-21T13:00:00",
          "2022-10-21T14:00:00",
          "2022-10-21T15:00:00",
          "2022-10-21T16:00:00",
          "2022-10-21T17:00:00",
          "2022-10-21T18:00:00",
          "2022-10-21T19:00:00",
          "2022-10-21T20:00:00",
          "2022-10-21T21:00:00",
          "2022-10-21T22:00:00",
          "2022-10-21T23:00:00",
          "2022-10-22T00:00:00",
          "2022-10-22T01:00:00",
          "2022-10-22T02:00:00",
          "2022-10-22T03:00:00",
          "2022-10-22T04:00:00",
          "2022-10-22T05:00:00",
          "2022-10-22T06:00:00",
          "2022-10-22T07:00:00",
          "2022-10-22T08:00:00",
          "2022-10-22T09:00:00",
          "2022-10-22T10:00:00",
          "2022-10-22T11:00:00",
          "2022-10-22T12:00:00",
          "2022-10-22T13:00:00",
          "2022-10-22T14:00:00",
          "2022-10-22T15:00:00",
          "2022-10-22T16:00:00",
          "2022-10-22T17:00:00",
          "2022-10-22T18:00:00",
          "2022-10-22T19:00:00",
          "2022-10-22T20:00:00",
          "2022-10-22T21:00:00",
          "2022-10-22T22:00:00",
          "2022-10-22T23:00:00",
          "2022-10-23T00:00:00",
          "2022-10-23T01:00:00",
          "2022-10-23T02:00:00",
          "2022-10-23T03:00:00",
          "2022-10-23T04:00:00",
          "2022-10-23T05:00:00",
          "2022-10-23T06:00:00",
          "2022-10-23T07:00:00",
          "2022-10-23T08:00:00",
          "2022-10-23T09:00:00",
          "2022-10-23T10:00:00",
          "2022-10-23T11:00:00",
          "2022-10-23T12:00:00",
          "2022-10-23T13:00:00",
          "2022-10-23T14:00:00",
          "2022-10-23T15:00:00",
          "2022-10-23T16:00:00",
          "2022-10-23T17:00:00",
          "2022-10-23T18:00:00",
          "2022-10-23T19:00:00",
          "2022-10-23T20:00:00",
          "2022-10-23T21:00:00",
          "2022-10-23T22:00:00",
          "2022-10-23T23:00:00",
          "2022-10-24T00:00:00",
          "2022-10-24T01:00:00",
          "2022-10-24T02:00:00",
          "2022-10-24T03:00:00",
          "2022-10-24T04:00:00",
          "2022-10-24T05:00:00",
          "2022-10-24T06:00:00",
          "2022-10-24T07:00:00",
          "2022-10-24T08:00:00",
          "2022-10-24T09:00:00",
          "2022-10-24T10:00:00",
          "2022-10-24T11:00:00",
          "2022-10-24T12:00:00",
          "2022-10-24T13:00:00",
          "2022-10-24T14:00:00",
          "2022-10-24T15:00:00",
          "2022-10-24T16:00:00",
          "2022-10-24T17:00:00",
          "2022-10-24T18:00:00",
          "2022-10-24T19:00:00",
          "2022-10-24T20:00:00",
          "2022-10-24T21:00:00",
          "2022-10-24T22:00:00",
          "2022-10-24T23:00:00",
          "2022-10-25T00:00:00",
          "2022-10-25T01:00:00",
          "2022-10-25T02:00:00",
          "2022-10-25T03:00:00",
          "2022-10-25T04:00:00",
          "2022-10-25T05:00:00",
          "2022-10-25T06:00:00",
          "2022-10-25T07:00:00",
          "2022-10-25T08:00:00",
          "2022-10-25T09:00:00",
          "2022-10-25T10:00:00",
          "2022-10-25T11:00:00",
          "2022-10-25T12:00:00",
          "2022-10-25T13:00:00",
          "2022-10-25T14:00:00",
          "2022-10-25T15:00:00",
          "2022-10-25T16:00:00",
          "2022-10-25T17:00:00",
          "2022-10-25T18:00:00",
          "2022-10-25T19:00:00",
          "2022-10-25T20:00:00",
          "2022-10-25T21:00:00",
          "2022-10-25T22:00:00",
          "2022-10-25T23:00:00",
          "2022-10-26T00:00:00",
          "2022-10-26T01:00:00",
          "2022-10-26T02:00:00",
          "2022-10-26T03:00:00",
          "2022-10-26T04:00:00",
          "2022-10-26T05:00:00",
          "2022-10-26T06:00:00",
          "2022-10-26T07:00:00",
          "2022-10-26T08:00:00",
          "2022-10-26T09:00:00",
          "2022-10-26T10:00:00",
          "2022-10-26T11:00:00",
          "2022-10-26T12:00:00",
          "2022-10-26T13:00:00",
          "2022-10-26T14:00:00",
          "2022-10-26T15:00:00",
          "2022-10-26T16:00:00",
          "2022-10-26T17:00:00",
          "2022-10-26T18:00:00",
          "2022-10-26T19:00:00",
          "2022-10-26T20:00:00",
          "2022-10-26T21:00:00",
          "2022-10-26T22:00:00",
          "2022-10-26T23:00:00",
          "2022-10-27T00:00:00",
          "2022-10-27T01:00:00",
          "2022-10-27T02:00:00",
          "2022-10-27T03:00:00",
          "2022-10-27T04:00:00",
          "2022-10-27T05:00:00",
          "2022-10-27T06:00:00",
          "2022-10-27T07:00:00",
          "2022-10-27T08:00:00",
          "2022-10-27T09:00:00",
          "2022-10-27T10:00:00",
          "2022-10-27T11:00:00",
          "2022-10-27T12:00:00",
          "2022-10-27T13:00:00",
          "2022-10-27T14:00:00",
          "2022-10-27T15:00:00",
          "2022-10-27T16:00:00",
          "2022-10-27T17:00:00",
          "2022-10-27T18:00:00",
          "2022-10-27T19:00:00",
          "2022-10-27T20:00:00",
          "2022-10-27T21:00:00",
          "2022-10-27T22:00:00",
          "2022-10-27T23:00:00",
          "2022-10-28T00:00:00",
          "2022-10-28T01:00:00",
          "2022-10-28T02:00:00",
          "2022-10-28T03:00:00",
          "2022-10-28T04:00:00",
          "2022-10-28T05:00:00",
          "2022-10-28T06:00:00",
          "2022-10-28T07:00:00",
          "2022-10-28T08:00:00",
          "2022-10-28T09:00:00",
          "2022-10-28T10:00:00",
          "2022-10-28T11:00:00",
          "2022-10-28T12:00:00",
          "2022-10-28T13:00:00",
          "2022-10-28T14:00:00",
          "2022-10-28T15:00:00",
          "2022-10-28T16:00:00",
          "2022-10-28T17:00:00",
          "2022-10-28T18:00:00",
          "2022-10-28T19:00:00",
          "2022-10-28T20:00:00",
          "2022-10-28T21:00:00",
          "2022-10-28T22:00:00",
          "2022-10-28T23:00:00",
          "2022-10-29T00:00:00",
          "2022-10-29T01:00:00",
          "2022-10-29T02:00:00",
          "2022-10-29T03:00:00",
          "2022-10-29T04:00:00",
          "2022-10-29T05:00:00",
          "2022-10-29T06:00:00",
          "2022-10-29T07:00:00",
          "2022-10-29T08:00:00",
          "2022-10-29T09:00:00",
          "2022-10-29T10:00:00",
          "2022-10-29T11:00:00",
          "2022-10-29T12:00:00",
          "2022-10-29T13:00:00",
          "2022-10-29T14:00:00",
          "2022-10-29T15:00:00",
          "2022-10-29T16:00:00",
          "2022-10-29T17:00:00",
          "2022-10-29T18:00:00",
          "2022-10-29T19:00:00",
          "2022-10-29T20:00:00",
          "2022-10-29T21:00:00",
          "2022-10-29T22:00:00",
          "2022-10-29T23:00:00",
          "2022-10-30T00:00:00"
         ],
         "xaxis": "x",
         "y": [
          493,
          526,
          463,
          295,
          142,
          18,
          21,
          32,
          22,
          65,
          94,
          132,
          173,
          128,
          140,
          110,
          114,
          115,
          133,
          163,
          159,
          150,
          113,
          75,
          49,
          35,
          25,
          11,
          8,
          9,
          33,
          71,
          72,
          80,
          60,
          67,
          75,
          68,
          80,
          93,
          97,
          122,
          129,
          123,
          114,
          149,
          109,
          88,
          47,
          17,
          22,
          11,
          14,
          13,
          42,
          71,
          81,
          91,
          73,
          57,
          62,
          70,
          73,
          69,
          70,
          88,
          104,
          110,
          149,
          164,
          210,
          133,
          100,
          51,
          25,
          17,
          9,
          13,
          26,
          72,
          89,
          90,
          60,
          60,
          89,
          84,
          83,
          85,
          83,
          130,
          127,
          140,
          147,
          186,
          238,
          149,
          100,
          71,
          39,
          25,
          13,
          13,
          40,
          87,
          63,
          84,
          84,
          70,
          64,
          65,
          101,
          105,
          103,
          135,
          176,
          158,
          201,
          210,
          307,
          277,
          288,
          204,
          134,
          74,
          45,
          20,
          36,
          65,
          82,
          79,
          97,
          94,
          98,
          116,
          101,
          107,
          116,
          121,
          178,
          242,
          213,
          285,
          365,
          412,
          457,
          543,
          518,
          335,
          114,
          31,
          30,
          42,
          30,
          60,
          95,
          126,
          143,
          144,
          134,
          123,
          148,
          181,
          230,
          274,
          295,
          340,
          372,
          377,
          481,
          547,
          454,
          365,
          132,
          30,
          26,
          41,
          27,
          62,
          101,
          102,
          123,
          126,
          109,
          110,
          106,
          157,
          130,
          155,
          166,
          192,
          147,
          147,
          94,
          58,
          43,
          24,
          23,
          11,
          26,
          37,
          45,
          72,
          49,
          57,
          49,
          69,
          68,
          83,
          72,
          84,
          94,
          113,
          130,
          126,
          116,
          94,
          63,
          34,
          15,
          17,
          6,
          5,
          33,
          60,
          107,
          63,
          72,
          64,
          64,
          68,
          64,
          83,
          74,
          69,
          121,
          148,
          168,
          197,
          236,
          166,
          84,
          58,
          41,
          23,
          14,
          14,
          38,
          76,
          73,
          87,
          81,
          65,
          71,
          73,
          75,
          78,
          83,
          94,
          126,
          142,
          171,
          224,
          241,
          204,
          127,
          79,
          40,
          25,
          26,
          12,
          30,
          85,
          89,
          98,
          86,
          69,
          75,
          87,
          85,
          77,
          82,
          129,
          169,
          216,
          227,
          233,
          297,
          246,
          209,
          117,
          81,
          52,
          33,
          12,
          39,
          63,
          83,
          89,
          83,
          75,
          84,
          80,
          106,
          106,
          107,
          133,
          166,
          244,
          267,
          294,
          331,
          416,
          454,
          567,
          515,
          333,
          155,
          36,
          27,
          31,
          54,
          66,
          86,
          130,
          120,
          146,
          146,
          156,
          166,
          189,
          221,
          272,
          266,
          343,
          351,
          369,
          415,
          518,
          505,
          305,
          141,
          36,
          24,
          24,
          41,
          64,
          85,
          107,
          116,
          120,
          102,
          102,
          120,
          137,
          136,
          157,
          163,
          160,
          142,
          123,
          63,
          35,
          28,
          17,
          14,
          22,
          30,
          56,
          81,
          77,
          55,
          71,
          61,
          71,
          87,
          76,
          73,
          80,
          121,
          146,
          198,
          155,
          127,
          82,
          57,
          38,
          32,
          6,
          12,
          13,
          35,
          53,
          116,
          90,
          70,
          78,
          67,
          87,
          83,
          72,
          73,
          101,
          113,
          151,
          179,
          248,
          237,
          190,
          115,
          56,
          36,
          21,
          11,
          9,
          43,
          77,
          97,
          104,
          73,
          72,
          70,
          82,
          84,
          90,
          89,
          111,
          125,
          184,
          199,
          257,
          276,
          246,
          156,
          82,
          41,
          18,
          12,
          18,
          44,
          80,
          95,
          109,
          89,
          76,
          83,
          77,
          95,
          83,
          97,
          113,
          165,
          187,
          228,
          277,
          306,
          310,
          291,
          185,
          109,
          63,
          27,
          16,
          34,
          63,
          82,
          84,
          82,
          84,
          75,
          83,
          94,
          123,
          108,
          121,
          217,
          249,
          255,
          292,
          361,
          469,
          490,
          572,
          502,
          334,
          110,
          21,
          24,
          31,
          56,
          64,
          97,
          141,
          147,
          198,
          228,
          208,
          218,
          246,
          250,
          279,
          262,
          321,
          347,
          433,
          463,
          544,
          519,
          345,
          141,
          24,
          22,
          29,
          30,
          49,
          81,
          130,
          174,
          170,
          133,
          127,
          131,
          134,
          167,
          123,
          120,
          158,
          106,
          104,
          67,
          37,
          25,
          17,
          12,
          17,
          40,
          60,
          83,
          95,
          70,
          67,
          68,
          71,
          72,
          76,
          76,
          77,
          113,
          106,
          123,
          160,
          134,
          88,
          58,
          37,
          20,
          12,
          7,
          10,
          32,
          57,
          88,
          91,
          83,
          76,
          71,
          86,
          85,
          88,
          72,
          90,
          121,
          129,
          143,
          205,
          209,
          153,
          109,
          61,
          35,
          20,
          10,
          6,
          37,
          76,
          97,
          96,
          76,
          81,
          70,
          80,
          66,
          79,
          90,
          113,
          153,
          148,
          204,
          221,
          289,
          229,
          149,
          78,
          51,
          26,
          19,
          12,
          36,
          81,
          96,
          109,
          88,
          79,
          80,
          67,
          80,
          87,
          83,
          112,
          161,
          166,
          183,
          252,
          286,
          294,
          282,
          185,
          122,
          83,
          39,
          16,
          47,
          66,
          100,
          90,
          74,
          88,
          98,
          82,
          81,
          90,
          97,
          147,
          164,
          236,
          265,
          293,
          383,
          366,
          397,
          485,
          520,
          418,
          214,
          37,
          26,
          24,
          47,
          69,
          91,
          114,
          115,
          129,
          153,
          164,
          171,
          162,
          271,
          279,
          270,
          305,
          347,
          334,
          378
         ],
         "yaxis": "y"
        },
        {
         "line": {
          "color": "green"
         },
         "marker": {
          "size": 10
         },
         "mode": "markers",
         "name": "actual value",
         "type": "scatter",
         "x": [
          "2022-10-30T00:00:00"
         ],
         "y": [
          378
         ]
        },
        {
         "line": {
          "color": "red"
         },
         "marker": {
          "size": 15,
          "symbol": "x"
         },
         "mode": "markers",
         "name": "prediction",
         "type": "scatter",
         "x": [
          "2022-10-30T00:00:00"
         ],
         "y": [
          382.9427720403979
         ]
        }
       ],
       "layout": {
        "legend": {
         "tracegroupgap": 0
        },
        "template": {
         "data": {
          "bar": [
           {
            "error_x": {
             "color": "#f2f5fa"
            },
            "error_y": {
             "color": "#f2f5fa"
            },
            "marker": {
             "line": {
              "color": "rgb(17,17,17)",
              "width": 0.5
             },
             "pattern": {
              "fillmode": "overlay",
              "size": 10,
              "solidity": 0.2
             }
            },
            "type": "bar"
           }
          ],
          "barpolar": [
           {
            "marker": {
             "line": {
              "color": "rgb(17,17,17)",
              "width": 0.5
             },
             "pattern": {
              "fillmode": "overlay",
              "size": 10,
              "solidity": 0.2
             }
            },
            "type": "barpolar"
           }
          ],
          "carpet": [
           {
            "aaxis": {
             "endlinecolor": "#A2B1C6",
             "gridcolor": "#506784",
             "linecolor": "#506784",
             "minorgridcolor": "#506784",
             "startlinecolor": "#A2B1C6"
            },
            "baxis": {
             "endlinecolor": "#A2B1C6",
             "gridcolor": "#506784",
             "linecolor": "#506784",
             "minorgridcolor": "#506784",
             "startlinecolor": "#A2B1C6"
            },
            "type": "carpet"
           }
          ],
          "choropleth": [
           {
            "colorbar": {
             "outlinewidth": 0,
             "ticks": ""
            },
            "type": "choropleth"
           }
          ],
          "contour": [
           {
            "colorbar": {
             "outlinewidth": 0,
             "ticks": ""
            },
            "colorscale": [
             [
              0,
              "#0d0887"
             ],
             [
              0.1111111111111111,
              "#46039f"
             ],
             [
              0.2222222222222222,
              "#7201a8"
             ],
             [
              0.3333333333333333,
              "#9c179e"
             ],
             [
              0.4444444444444444,
              "#bd3786"
             ],
             [
              0.5555555555555556,
              "#d8576b"
             ],
             [
              0.6666666666666666,
              "#ed7953"
             ],
             [
              0.7777777777777778,
              "#fb9f3a"
             ],
             [
              0.8888888888888888,
              "#fdca26"
             ],
             [
              1,
              "#f0f921"
             ]
            ],
            "type": "contour"
           }
          ],
          "contourcarpet": [
           {
            "colorbar": {
             "outlinewidth": 0,
             "ticks": ""
            },
            "type": "contourcarpet"
           }
          ],
          "heatmap": [
           {
            "colorbar": {
             "outlinewidth": 0,
             "ticks": ""
            },
            "colorscale": [
             [
              0,
              "#0d0887"
             ],
             [
              0.1111111111111111,
              "#46039f"
             ],
             [
              0.2222222222222222,
              "#7201a8"
             ],
             [
              0.3333333333333333,
              "#9c179e"
             ],
             [
              0.4444444444444444,
              "#bd3786"
             ],
             [
              0.5555555555555556,
              "#d8576b"
             ],
             [
              0.6666666666666666,
              "#ed7953"
             ],
             [
              0.7777777777777778,
              "#fb9f3a"
             ],
             [
              0.8888888888888888,
              "#fdca26"
             ],
             [
              1,
              "#f0f921"
             ]
            ],
            "type": "heatmap"
           }
          ],
          "heatmapgl": [
           {
            "colorbar": {
             "outlinewidth": 0,
             "ticks": ""
            },
            "colorscale": [
             [
              0,
              "#0d0887"
             ],
             [
              0.1111111111111111,
              "#46039f"
             ],
             [
              0.2222222222222222,
              "#7201a8"
             ],
             [
              0.3333333333333333,
              "#9c179e"
             ],
             [
              0.4444444444444444,
              "#bd3786"
             ],
             [
              0.5555555555555556,
              "#d8576b"
             ],
             [
              0.6666666666666666,
              "#ed7953"
             ],
             [
              0.7777777777777778,
              "#fb9f3a"
             ],
             [
              0.8888888888888888,
              "#fdca26"
             ],
             [
              1,
              "#f0f921"
             ]
            ],
            "type": "heatmapgl"
           }
          ],
          "histogram": [
           {
            "marker": {
             "pattern": {
              "fillmode": "overlay",
              "size": 10,
              "solidity": 0.2
             }
            },
            "type": "histogram"
           }
          ],
          "histogram2d": [
           {
            "colorbar": {
             "outlinewidth": 0,
             "ticks": ""
            },
            "colorscale": [
             [
              0,
              "#0d0887"
             ],
             [
              0.1111111111111111,
              "#46039f"
             ],
             [
              0.2222222222222222,
              "#7201a8"
             ],
             [
              0.3333333333333333,
              "#9c179e"
             ],
             [
              0.4444444444444444,
              "#bd3786"
             ],
             [
              0.5555555555555556,
              "#d8576b"
             ],
             [
              0.6666666666666666,
              "#ed7953"
             ],
             [
              0.7777777777777778,
              "#fb9f3a"
             ],
             [
              0.8888888888888888,
              "#fdca26"
             ],
             [
              1,
              "#f0f921"
             ]
            ],
            "type": "histogram2d"
           }
          ],
          "histogram2dcontour": [
           {
            "colorbar": {
             "outlinewidth": 0,
             "ticks": ""
            },
            "colorscale": [
             [
              0,
              "#0d0887"
             ],
             [
              0.1111111111111111,
              "#46039f"
             ],
             [
              0.2222222222222222,
              "#7201a8"
             ],
             [
              0.3333333333333333,
              "#9c179e"
             ],
             [
              0.4444444444444444,
              "#bd3786"
             ],
             [
              0.5555555555555556,
              "#d8576b"
             ],
             [
              0.6666666666666666,
              "#ed7953"
             ],
             [
              0.7777777777777778,
              "#fb9f3a"
             ],
             [
              0.8888888888888888,
              "#fdca26"
             ],
             [
              1,
              "#f0f921"
             ]
            ],
            "type": "histogram2dcontour"
           }
          ],
          "mesh3d": [
           {
            "colorbar": {
             "outlinewidth": 0,
             "ticks": ""
            },
            "type": "mesh3d"
           }
          ],
          "parcoords": [
           {
            "line": {
             "colorbar": {
              "outlinewidth": 0,
              "ticks": ""
             }
            },
            "type": "parcoords"
           }
          ],
          "pie": [
           {
            "automargin": true,
            "type": "pie"
           }
          ],
          "scatter": [
           {
            "marker": {
             "line": {
              "color": "#283442"
             }
            },
            "type": "scatter"
           }
          ],
          "scatter3d": [
           {
            "line": {
             "colorbar": {
              "outlinewidth": 0,
              "ticks": ""
             }
            },
            "marker": {
             "colorbar": {
              "outlinewidth": 0,
              "ticks": ""
             }
            },
            "type": "scatter3d"
           }
          ],
          "scattercarpet": [
           {
            "marker": {
             "colorbar": {
              "outlinewidth": 0,
              "ticks": ""
             }
            },
            "type": "scattercarpet"
           }
          ],
          "scattergeo": [
           {
            "marker": {
             "colorbar": {
              "outlinewidth": 0,
              "ticks": ""
             }
            },
            "type": "scattergeo"
           }
          ],
          "scattergl": [
           {
            "marker": {
             "line": {
              "color": "#283442"
             }
            },
            "type": "scattergl"
           }
          ],
          "scattermapbox": [
           {
            "marker": {
             "colorbar": {
              "outlinewidth": 0,
              "ticks": ""
             }
            },
            "type": "scattermapbox"
           }
          ],
          "scatterpolar": [
           {
            "marker": {
             "colorbar": {
              "outlinewidth": 0,
              "ticks": ""
             }
            },
            "type": "scatterpolar"
           }
          ],
          "scatterpolargl": [
           {
            "marker": {
             "colorbar": {
              "outlinewidth": 0,
              "ticks": ""
             }
            },
            "type": "scatterpolargl"
           }
          ],
          "scatterternary": [
           {
            "marker": {
             "colorbar": {
              "outlinewidth": 0,
              "ticks": ""
             }
            },
            "type": "scatterternary"
           }
          ],
          "surface": [
           {
            "colorbar": {
             "outlinewidth": 0,
             "ticks": ""
            },
            "colorscale": [
             [
              0,
              "#0d0887"
             ],
             [
              0.1111111111111111,
              "#46039f"
             ],
             [
              0.2222222222222222,
              "#7201a8"
             ],
             [
              0.3333333333333333,
              "#9c179e"
             ],
             [
              0.4444444444444444,
              "#bd3786"
             ],
             [
              0.5555555555555556,
              "#d8576b"
             ],
             [
              0.6666666666666666,
              "#ed7953"
             ],
             [
              0.7777777777777778,
              "#fb9f3a"
             ],
             [
              0.8888888888888888,
              "#fdca26"
             ],
             [
              1,
              "#f0f921"
             ]
            ],
            "type": "surface"
           }
          ],
          "table": [
           {
            "cells": {
             "fill": {
              "color": "#506784"
             },
             "line": {
              "color": "rgb(17,17,17)"
             }
            },
            "header": {
             "fill": {
              "color": "#2a3f5f"
             },
             "line": {
              "color": "rgb(17,17,17)"
             }
            },
            "type": "table"
           }
          ]
         },
         "layout": {
          "annotationdefaults": {
           "arrowcolor": "#f2f5fa",
           "arrowhead": 0,
           "arrowwidth": 1
          },
          "autotypenumbers": "strict",
          "coloraxis": {
           "colorbar": {
            "outlinewidth": 0,
            "ticks": ""
           }
          },
          "colorscale": {
           "diverging": [
            [
             0,
             "#8e0152"
            ],
            [
             0.1,
             "#c51b7d"
            ],
            [
             0.2,
             "#de77ae"
            ],
            [
             0.3,
             "#f1b6da"
            ],
            [
             0.4,
             "#fde0ef"
            ],
            [
             0.5,
             "#f7f7f7"
            ],
            [
             0.6,
             "#e6f5d0"
            ],
            [
             0.7,
             "#b8e186"
            ],
            [
             0.8,
             "#7fbc41"
            ],
            [
             0.9,
             "#4d9221"
            ],
            [
             1,
             "#276419"
            ]
           ],
           "sequential": [
            [
             0,
             "#0d0887"
            ],
            [
             0.1111111111111111,
             "#46039f"
            ],
            [
             0.2222222222222222,
             "#7201a8"
            ],
            [
             0.3333333333333333,
             "#9c179e"
            ],
            [
             0.4444444444444444,
             "#bd3786"
            ],
            [
             0.5555555555555556,
             "#d8576b"
            ],
            [
             0.6666666666666666,
             "#ed7953"
            ],
            [
             0.7777777777777778,
             "#fb9f3a"
            ],
            [
             0.8888888888888888,
             "#fdca26"
            ],
            [
             1,
             "#f0f921"
            ]
           ],
           "sequentialminus": [
            [
             0,
             "#0d0887"
            ],
            [
             0.1111111111111111,
             "#46039f"
            ],
            [
             0.2222222222222222,
             "#7201a8"
            ],
            [
             0.3333333333333333,
             "#9c179e"
            ],
            [
             0.4444444444444444,
             "#bd3786"
            ],
            [
             0.5555555555555556,
             "#d8576b"
            ],
            [
             0.6666666666666666,
             "#ed7953"
            ],
            [
             0.7777777777777778,
             "#fb9f3a"
            ],
            [
             0.8888888888888888,
             "#fdca26"
            ],
            [
             1,
             "#f0f921"
            ]
           ]
          },
          "colorway": [
           "#636efa",
           "#EF553B",
           "#00cc96",
           "#ab63fa",
           "#FFA15A",
           "#19d3f3",
           "#FF6692",
           "#B6E880",
           "#FF97FF",
           "#FECB52"
          ],
          "font": {
           "color": "#f2f5fa"
          },
          "geo": {
           "bgcolor": "rgb(17,17,17)",
           "lakecolor": "rgb(17,17,17)",
           "landcolor": "rgb(17,17,17)",
           "showlakes": true,
           "showland": true,
           "subunitcolor": "#506784"
          },
          "hoverlabel": {
           "align": "left"
          },
          "hovermode": "closest",
          "mapbox": {
           "style": "dark"
          },
          "paper_bgcolor": "rgb(17,17,17)",
          "plot_bgcolor": "rgb(17,17,17)",
          "polar": {
           "angularaxis": {
            "gridcolor": "#506784",
            "linecolor": "#506784",
            "ticks": ""
           },
           "bgcolor": "rgb(17,17,17)",
           "radialaxis": {
            "gridcolor": "#506784",
            "linecolor": "#506784",
            "ticks": ""
           }
          },
          "scene": {
           "xaxis": {
            "backgroundcolor": "rgb(17,17,17)",
            "gridcolor": "#506784",
            "gridwidth": 2,
            "linecolor": "#506784",
            "showbackground": true,
            "ticks": "",
            "zerolinecolor": "#C8D4E3"
           },
           "yaxis": {
            "backgroundcolor": "rgb(17,17,17)",
            "gridcolor": "#506784",
            "gridwidth": 2,
            "linecolor": "#506784",
            "showbackground": true,
            "ticks": "",
            "zerolinecolor": "#C8D4E3"
           },
           "zaxis": {
            "backgroundcolor": "rgb(17,17,17)",
            "gridcolor": "#506784",
            "gridwidth": 2,
            "linecolor": "#506784",
            "showbackground": true,
            "ticks": "",
            "zerolinecolor": "#C8D4E3"
           }
          },
          "shapedefaults": {
           "line": {
            "color": "#f2f5fa"
           }
          },
          "sliderdefaults": {
           "bgcolor": "#C8D4E3",
           "bordercolor": "rgb(17,17,17)",
           "borderwidth": 1,
           "tickwidth": 0
          },
          "ternary": {
           "aaxis": {
            "gridcolor": "#506784",
            "linecolor": "#506784",
            "ticks": ""
           },
           "baxis": {
            "gridcolor": "#506784",
            "linecolor": "#506784",
            "ticks": ""
           },
           "bgcolor": "rgb(17,17,17)",
           "caxis": {
            "gridcolor": "#506784",
            "linecolor": "#506784",
            "ticks": ""
           }
          },
          "title": {
           "x": 0.05
          },
          "updatemenudefaults": {
           "bgcolor": "#506784",
           "borderwidth": 0
          },
          "xaxis": {
           "automargin": true,
           "gridcolor": "#283442",
           "linecolor": "#506784",
           "ticks": "",
           "title": {
            "standoff": 15
           },
           "zerolinecolor": "#283442",
           "zerolinewidth": 2
          },
          "yaxis": {
           "automargin": true,
           "gridcolor": "#283442",
           "linecolor": "#506784",
           "ticks": "",
           "title": {
            "standoff": 15
           },
           "zerolinecolor": "#283442",
           "zerolinewidth": 2
          }
         }
        },
        "title": {
         "text": "Pick up hour=2022-10-30 00:00:00, location_id=79"
        },
        "xaxis": {
         "anchor": "y",
         "domain": [
          0,
          1
         ],
         "title": {
          "text": "x"
         }
        },
        "yaxis": {
         "anchor": "x",
         "domain": [
          0,
          1
         ],
         "title": {
          "text": "y"
         }
        }
       }
      }
     },
     "metadata": {},
     "output_type": "display_data"
    }
   ],
   "source": [
    "from src.plot import plot_one_sample\n",
    "\n",
    "plot_one_sample(\n",
    "    example_id=12085,\n",
    "    features=X_test,\n",
    "    targets=y_test,\n",
    "    predictions=pd.Series(predictions)\n",
    ")\n"
   ]
  },
  {
   "cell_type": "code",
   "execution_count": 29,
   "metadata": {},
   "outputs": [
    {
     "data": {
      "application/vnd.plotly.v1+json": {
       "config": {
        "plotlyServerURL": "https://plot.ly"
       },
       "data": [
        {
         "hovertemplate": "x=%{x}<br>y=%{y}<extra></extra>",
         "legendgroup": "",
         "line": {
          "color": "#636efa",
          "dash": "solid"
         },
         "marker": {
          "symbol": "circle"
         },
         "mode": "markers+lines",
         "name": "",
         "orientation": "v",
         "showlegend": false,
         "type": "scatter",
         "x": [
          "2022-05-07T00:00:00",
          "2022-05-07T01:00:00",
          "2022-05-07T02:00:00",
          "2022-05-07T03:00:00",
          "2022-05-07T04:00:00",
          "2022-05-07T05:00:00",
          "2022-05-07T06:00:00",
          "2022-05-07T07:00:00",
          "2022-05-07T08:00:00",
          "2022-05-07T09:00:00",
          "2022-05-07T10:00:00",
          "2022-05-07T11:00:00",
          "2022-05-07T12:00:00",
          "2022-05-07T13:00:00",
          "2022-05-07T14:00:00",
          "2022-05-07T15:00:00",
          "2022-05-07T16:00:00",
          "2022-05-07T17:00:00",
          "2022-05-07T18:00:00",
          "2022-05-07T19:00:00",
          "2022-05-07T20:00:00",
          "2022-05-07T21:00:00",
          "2022-05-07T22:00:00",
          "2022-05-07T23:00:00",
          "2022-05-08T00:00:00",
          "2022-05-08T01:00:00",
          "2022-05-08T02:00:00",
          "2022-05-08T03:00:00",
          "2022-05-08T04:00:00",
          "2022-05-08T05:00:00",
          "2022-05-08T06:00:00",
          "2022-05-08T07:00:00",
          "2022-05-08T08:00:00",
          "2022-05-08T09:00:00",
          "2022-05-08T10:00:00",
          "2022-05-08T11:00:00",
          "2022-05-08T12:00:00",
          "2022-05-08T13:00:00",
          "2022-05-08T14:00:00",
          "2022-05-08T15:00:00",
          "2022-05-08T16:00:00",
          "2022-05-08T17:00:00",
          "2022-05-08T18:00:00",
          "2022-05-08T19:00:00",
          "2022-05-08T20:00:00",
          "2022-05-08T21:00:00",
          "2022-05-08T22:00:00",
          "2022-05-08T23:00:00",
          "2022-05-09T00:00:00",
          "2022-05-09T01:00:00",
          "2022-05-09T02:00:00",
          "2022-05-09T03:00:00",
          "2022-05-09T04:00:00",
          "2022-05-09T05:00:00",
          "2022-05-09T06:00:00",
          "2022-05-09T07:00:00",
          "2022-05-09T08:00:00",
          "2022-05-09T09:00:00",
          "2022-05-09T10:00:00",
          "2022-05-09T11:00:00",
          "2022-05-09T12:00:00",
          "2022-05-09T13:00:00",
          "2022-05-09T14:00:00",
          "2022-05-09T15:00:00",
          "2022-05-09T16:00:00",
          "2022-05-09T17:00:00",
          "2022-05-09T18:00:00",
          "2022-05-09T19:00:00",
          "2022-05-09T20:00:00",
          "2022-05-09T21:00:00",
          "2022-05-09T22:00:00",
          "2022-05-09T23:00:00",
          "2022-05-10T00:00:00",
          "2022-05-10T01:00:00",
          "2022-05-10T02:00:00",
          "2022-05-10T03:00:00",
          "2022-05-10T04:00:00",
          "2022-05-10T05:00:00",
          "2022-05-10T06:00:00",
          "2022-05-10T07:00:00",
          "2022-05-10T08:00:00",
          "2022-05-10T09:00:00",
          "2022-05-10T10:00:00",
          "2022-05-10T11:00:00",
          "2022-05-10T12:00:00",
          "2022-05-10T13:00:00",
          "2022-05-10T14:00:00",
          "2022-05-10T15:00:00",
          "2022-05-10T16:00:00",
          "2022-05-10T17:00:00",
          "2022-05-10T18:00:00",
          "2022-05-10T19:00:00",
          "2022-05-10T20:00:00",
          "2022-05-10T21:00:00",
          "2022-05-10T22:00:00",
          "2022-05-10T23:00:00",
          "2022-05-11T00:00:00",
          "2022-05-11T01:00:00",
          "2022-05-11T02:00:00",
          "2022-05-11T03:00:00",
          "2022-05-11T04:00:00",
          "2022-05-11T05:00:00",
          "2022-05-11T06:00:00",
          "2022-05-11T07:00:00",
          "2022-05-11T08:00:00",
          "2022-05-11T09:00:00",
          "2022-05-11T10:00:00",
          "2022-05-11T11:00:00",
          "2022-05-11T12:00:00",
          "2022-05-11T13:00:00",
          "2022-05-11T14:00:00",
          "2022-05-11T15:00:00",
          "2022-05-11T16:00:00",
          "2022-05-11T17:00:00",
          "2022-05-11T18:00:00",
          "2022-05-11T19:00:00",
          "2022-05-11T20:00:00",
          "2022-05-11T21:00:00",
          "2022-05-11T22:00:00",
          "2022-05-11T23:00:00",
          "2022-05-12T00:00:00",
          "2022-05-12T01:00:00",
          "2022-05-12T02:00:00",
          "2022-05-12T03:00:00",
          "2022-05-12T04:00:00",
          "2022-05-12T05:00:00",
          "2022-05-12T06:00:00",
          "2022-05-12T07:00:00",
          "2022-05-12T08:00:00",
          "2022-05-12T09:00:00",
          "2022-05-12T10:00:00",
          "2022-05-12T11:00:00",
          "2022-05-12T12:00:00",
          "2022-05-12T13:00:00",
          "2022-05-12T14:00:00",
          "2022-05-12T15:00:00",
          "2022-05-12T16:00:00",
          "2022-05-12T17:00:00",
          "2022-05-12T18:00:00",
          "2022-05-12T19:00:00",
          "2022-05-12T20:00:00",
          "2022-05-12T21:00:00",
          "2022-05-12T22:00:00",
          "2022-05-12T23:00:00",
          "2022-05-13T00:00:00",
          "2022-05-13T01:00:00",
          "2022-05-13T02:00:00",
          "2022-05-13T03:00:00",
          "2022-05-13T04:00:00",
          "2022-05-13T05:00:00",
          "2022-05-13T06:00:00",
          "2022-05-13T07:00:00",
          "2022-05-13T08:00:00",
          "2022-05-13T09:00:00",
          "2022-05-13T10:00:00",
          "2022-05-13T11:00:00",
          "2022-05-13T12:00:00",
          "2022-05-13T13:00:00",
          "2022-05-13T14:00:00",
          "2022-05-13T15:00:00",
          "2022-05-13T16:00:00",
          "2022-05-13T17:00:00",
          "2022-05-13T18:00:00",
          "2022-05-13T19:00:00",
          "2022-05-13T20:00:00",
          "2022-05-13T21:00:00",
          "2022-05-13T22:00:00",
          "2022-05-13T23:00:00",
          "2022-05-14T00:00:00",
          "2022-05-14T01:00:00",
          "2022-05-14T02:00:00",
          "2022-05-14T03:00:00",
          "2022-05-14T04:00:00",
          "2022-05-14T05:00:00",
          "2022-05-14T06:00:00",
          "2022-05-14T07:00:00",
          "2022-05-14T08:00:00",
          "2022-05-14T09:00:00",
          "2022-05-14T10:00:00",
          "2022-05-14T11:00:00",
          "2022-05-14T12:00:00",
          "2022-05-14T13:00:00",
          "2022-05-14T14:00:00",
          "2022-05-14T15:00:00",
          "2022-05-14T16:00:00",
          "2022-05-14T17:00:00",
          "2022-05-14T18:00:00",
          "2022-05-14T19:00:00",
          "2022-05-14T20:00:00",
          "2022-05-14T21:00:00",
          "2022-05-14T22:00:00",
          "2022-05-14T23:00:00",
          "2022-05-15T00:00:00",
          "2022-05-15T01:00:00",
          "2022-05-15T02:00:00",
          "2022-05-15T03:00:00",
          "2022-05-15T04:00:00",
          "2022-05-15T05:00:00",
          "2022-05-15T06:00:00",
          "2022-05-15T07:00:00",
          "2022-05-15T08:00:00",
          "2022-05-15T09:00:00",
          "2022-05-15T10:00:00",
          "2022-05-15T11:00:00",
          "2022-05-15T12:00:00",
          "2022-05-15T13:00:00",
          "2022-05-15T14:00:00",
          "2022-05-15T15:00:00",
          "2022-05-15T16:00:00",
          "2022-05-15T17:00:00",
          "2022-05-15T18:00:00",
          "2022-05-15T19:00:00",
          "2022-05-15T20:00:00",
          "2022-05-15T21:00:00",
          "2022-05-15T22:00:00",
          "2022-05-15T23:00:00",
          "2022-05-16T00:00:00",
          "2022-05-16T01:00:00",
          "2022-05-16T02:00:00",
          "2022-05-16T03:00:00",
          "2022-05-16T04:00:00",
          "2022-05-16T05:00:00",
          "2022-05-16T06:00:00",
          "2022-05-16T07:00:00",
          "2022-05-16T08:00:00",
          "2022-05-16T09:00:00",
          "2022-05-16T10:00:00",
          "2022-05-16T11:00:00",
          "2022-05-16T12:00:00",
          "2022-05-16T13:00:00",
          "2022-05-16T14:00:00",
          "2022-05-16T15:00:00",
          "2022-05-16T16:00:00",
          "2022-05-16T17:00:00",
          "2022-05-16T18:00:00",
          "2022-05-16T19:00:00",
          "2022-05-16T20:00:00",
          "2022-05-16T21:00:00",
          "2022-05-16T22:00:00",
          "2022-05-16T23:00:00",
          "2022-05-17T00:00:00",
          "2022-05-17T01:00:00",
          "2022-05-17T02:00:00",
          "2022-05-17T03:00:00",
          "2022-05-17T04:00:00",
          "2022-05-17T05:00:00",
          "2022-05-17T06:00:00",
          "2022-05-17T07:00:00",
          "2022-05-17T08:00:00",
          "2022-05-17T09:00:00",
          "2022-05-17T10:00:00",
          "2022-05-17T11:00:00",
          "2022-05-17T12:00:00",
          "2022-05-17T13:00:00",
          "2022-05-17T14:00:00",
          "2022-05-17T15:00:00",
          "2022-05-17T16:00:00",
          "2022-05-17T17:00:00",
          "2022-05-17T18:00:00",
          "2022-05-17T19:00:00",
          "2022-05-17T20:00:00",
          "2022-05-17T21:00:00",
          "2022-05-17T22:00:00",
          "2022-05-17T23:00:00",
          "2022-05-18T00:00:00",
          "2022-05-18T01:00:00",
          "2022-05-18T02:00:00",
          "2022-05-18T03:00:00",
          "2022-05-18T04:00:00",
          "2022-05-18T05:00:00",
          "2022-05-18T06:00:00",
          "2022-05-18T07:00:00",
          "2022-05-18T08:00:00",
          "2022-05-18T09:00:00",
          "2022-05-18T10:00:00",
          "2022-05-18T11:00:00",
          "2022-05-18T12:00:00",
          "2022-05-18T13:00:00",
          "2022-05-18T14:00:00",
          "2022-05-18T15:00:00",
          "2022-05-18T16:00:00",
          "2022-05-18T17:00:00",
          "2022-05-18T18:00:00",
          "2022-05-18T19:00:00",
          "2022-05-18T20:00:00",
          "2022-05-18T21:00:00",
          "2022-05-18T22:00:00",
          "2022-05-18T23:00:00",
          "2022-05-19T00:00:00",
          "2022-05-19T01:00:00",
          "2022-05-19T02:00:00",
          "2022-05-19T03:00:00",
          "2022-05-19T04:00:00",
          "2022-05-19T05:00:00",
          "2022-05-19T06:00:00",
          "2022-05-19T07:00:00",
          "2022-05-19T08:00:00",
          "2022-05-19T09:00:00",
          "2022-05-19T10:00:00",
          "2022-05-19T11:00:00",
          "2022-05-19T12:00:00",
          "2022-05-19T13:00:00",
          "2022-05-19T14:00:00",
          "2022-05-19T15:00:00",
          "2022-05-19T16:00:00",
          "2022-05-19T17:00:00",
          "2022-05-19T18:00:00",
          "2022-05-19T19:00:00",
          "2022-05-19T20:00:00",
          "2022-05-19T21:00:00",
          "2022-05-19T22:00:00",
          "2022-05-19T23:00:00",
          "2022-05-20T00:00:00",
          "2022-05-20T01:00:00",
          "2022-05-20T02:00:00",
          "2022-05-20T03:00:00",
          "2022-05-20T04:00:00",
          "2022-05-20T05:00:00",
          "2022-05-20T06:00:00",
          "2022-05-20T07:00:00",
          "2022-05-20T08:00:00",
          "2022-05-20T09:00:00",
          "2022-05-20T10:00:00",
          "2022-05-20T11:00:00",
          "2022-05-20T12:00:00",
          "2022-05-20T13:00:00",
          "2022-05-20T14:00:00",
          "2022-05-20T15:00:00",
          "2022-05-20T16:00:00",
          "2022-05-20T17:00:00",
          "2022-05-20T18:00:00",
          "2022-05-20T19:00:00",
          "2022-05-20T20:00:00",
          "2022-05-20T21:00:00",
          "2022-05-20T22:00:00",
          "2022-05-20T23:00:00",
          "2022-05-21T00:00:00",
          "2022-05-21T01:00:00",
          "2022-05-21T02:00:00",
          "2022-05-21T03:00:00",
          "2022-05-21T04:00:00",
          "2022-05-21T05:00:00",
          "2022-05-21T06:00:00",
          "2022-05-21T07:00:00",
          "2022-05-21T08:00:00",
          "2022-05-21T09:00:00",
          "2022-05-21T10:00:00",
          "2022-05-21T11:00:00",
          "2022-05-21T12:00:00",
          "2022-05-21T13:00:00",
          "2022-05-21T14:00:00",
          "2022-05-21T15:00:00",
          "2022-05-21T16:00:00",
          "2022-05-21T17:00:00",
          "2022-05-21T18:00:00",
          "2022-05-21T19:00:00",
          "2022-05-21T20:00:00",
          "2022-05-21T21:00:00",
          "2022-05-21T22:00:00",
          "2022-05-21T23:00:00",
          "2022-05-22T00:00:00",
          "2022-05-22T01:00:00",
          "2022-05-22T02:00:00",
          "2022-05-22T03:00:00",
          "2022-05-22T04:00:00",
          "2022-05-22T05:00:00",
          "2022-05-22T06:00:00",
          "2022-05-22T07:00:00",
          "2022-05-22T08:00:00",
          "2022-05-22T09:00:00",
          "2022-05-22T10:00:00",
          "2022-05-22T11:00:00",
          "2022-05-22T12:00:00",
          "2022-05-22T13:00:00",
          "2022-05-22T14:00:00",
          "2022-05-22T15:00:00",
          "2022-05-22T16:00:00",
          "2022-05-22T17:00:00",
          "2022-05-22T18:00:00",
          "2022-05-22T19:00:00",
          "2022-05-22T20:00:00",
          "2022-05-22T21:00:00",
          "2022-05-22T22:00:00",
          "2022-05-22T23:00:00",
          "2022-05-23T00:00:00",
          "2022-05-23T01:00:00",
          "2022-05-23T02:00:00",
          "2022-05-23T03:00:00",
          "2022-05-23T04:00:00",
          "2022-05-23T05:00:00",
          "2022-05-23T06:00:00",
          "2022-05-23T07:00:00",
          "2022-05-23T08:00:00",
          "2022-05-23T09:00:00",
          "2022-05-23T10:00:00",
          "2022-05-23T11:00:00",
          "2022-05-23T12:00:00",
          "2022-05-23T13:00:00",
          "2022-05-23T14:00:00",
          "2022-05-23T15:00:00",
          "2022-05-23T16:00:00",
          "2022-05-23T17:00:00",
          "2022-05-23T18:00:00",
          "2022-05-23T19:00:00",
          "2022-05-23T20:00:00",
          "2022-05-23T21:00:00",
          "2022-05-23T22:00:00",
          "2022-05-23T23:00:00",
          "2022-05-24T00:00:00",
          "2022-05-24T01:00:00",
          "2022-05-24T02:00:00",
          "2022-05-24T03:00:00",
          "2022-05-24T04:00:00",
          "2022-05-24T05:00:00",
          "2022-05-24T06:00:00",
          "2022-05-24T07:00:00",
          "2022-05-24T08:00:00",
          "2022-05-24T09:00:00",
          "2022-05-24T10:00:00",
          "2022-05-24T11:00:00",
          "2022-05-24T12:00:00",
          "2022-05-24T13:00:00",
          "2022-05-24T14:00:00",
          "2022-05-24T15:00:00",
          "2022-05-24T16:00:00",
          "2022-05-24T17:00:00",
          "2022-05-24T18:00:00",
          "2022-05-24T19:00:00",
          "2022-05-24T20:00:00",
          "2022-05-24T21:00:00",
          "2022-05-24T22:00:00",
          "2022-05-24T23:00:00",
          "2022-05-25T00:00:00",
          "2022-05-25T01:00:00",
          "2022-05-25T02:00:00",
          "2022-05-25T03:00:00",
          "2022-05-25T04:00:00",
          "2022-05-25T05:00:00",
          "2022-05-25T06:00:00",
          "2022-05-25T07:00:00",
          "2022-05-25T08:00:00",
          "2022-05-25T09:00:00",
          "2022-05-25T10:00:00",
          "2022-05-25T11:00:00",
          "2022-05-25T12:00:00",
          "2022-05-25T13:00:00",
          "2022-05-25T14:00:00",
          "2022-05-25T15:00:00",
          "2022-05-25T16:00:00",
          "2022-05-25T17:00:00",
          "2022-05-25T18:00:00",
          "2022-05-25T19:00:00",
          "2022-05-25T20:00:00",
          "2022-05-25T21:00:00",
          "2022-05-25T22:00:00",
          "2022-05-25T23:00:00",
          "2022-05-26T00:00:00",
          "2022-05-26T01:00:00",
          "2022-05-26T02:00:00",
          "2022-05-26T03:00:00",
          "2022-05-26T04:00:00",
          "2022-05-26T05:00:00",
          "2022-05-26T06:00:00",
          "2022-05-26T07:00:00",
          "2022-05-26T08:00:00",
          "2022-05-26T09:00:00",
          "2022-05-26T10:00:00",
          "2022-05-26T11:00:00",
          "2022-05-26T12:00:00",
          "2022-05-26T13:00:00",
          "2022-05-26T14:00:00",
          "2022-05-26T15:00:00",
          "2022-05-26T16:00:00",
          "2022-05-26T17:00:00",
          "2022-05-26T18:00:00",
          "2022-05-26T19:00:00",
          "2022-05-26T20:00:00",
          "2022-05-26T21:00:00",
          "2022-05-26T22:00:00",
          "2022-05-26T23:00:00",
          "2022-05-27T00:00:00",
          "2022-05-27T01:00:00",
          "2022-05-27T02:00:00",
          "2022-05-27T03:00:00",
          "2022-05-27T04:00:00",
          "2022-05-27T05:00:00",
          "2022-05-27T06:00:00",
          "2022-05-27T07:00:00",
          "2022-05-27T08:00:00",
          "2022-05-27T09:00:00",
          "2022-05-27T10:00:00",
          "2022-05-27T11:00:00",
          "2022-05-27T12:00:00",
          "2022-05-27T13:00:00",
          "2022-05-27T14:00:00",
          "2022-05-27T15:00:00",
          "2022-05-27T16:00:00",
          "2022-05-27T17:00:00",
          "2022-05-27T18:00:00",
          "2022-05-27T19:00:00",
          "2022-05-27T20:00:00",
          "2022-05-27T21:00:00",
          "2022-05-27T22:00:00",
          "2022-05-27T23:00:00",
          "2022-05-28T00:00:00",
          "2022-05-28T01:00:00",
          "2022-05-28T02:00:00",
          "2022-05-28T03:00:00",
          "2022-05-28T04:00:00",
          "2022-05-28T05:00:00",
          "2022-05-28T06:00:00",
          "2022-05-28T07:00:00",
          "2022-05-28T08:00:00",
          "2022-05-28T09:00:00",
          "2022-05-28T10:00:00",
          "2022-05-28T11:00:00",
          "2022-05-28T12:00:00",
          "2022-05-28T13:00:00",
          "2022-05-28T14:00:00",
          "2022-05-28T15:00:00",
          "2022-05-28T16:00:00",
          "2022-05-28T17:00:00",
          "2022-05-28T18:00:00",
          "2022-05-28T19:00:00",
          "2022-05-28T20:00:00",
          "2022-05-28T21:00:00",
          "2022-05-28T22:00:00",
          "2022-05-28T23:00:00",
          "2022-05-29T00:00:00",
          "2022-05-29T01:00:00",
          "2022-05-29T02:00:00",
          "2022-05-29T03:00:00",
          "2022-05-29T04:00:00",
          "2022-05-29T05:00:00",
          "2022-05-29T06:00:00",
          "2022-05-29T07:00:00",
          "2022-05-29T08:00:00",
          "2022-05-29T09:00:00",
          "2022-05-29T10:00:00",
          "2022-05-29T11:00:00",
          "2022-05-29T12:00:00",
          "2022-05-29T13:00:00",
          "2022-05-29T14:00:00",
          "2022-05-29T15:00:00",
          "2022-05-29T16:00:00",
          "2022-05-29T17:00:00",
          "2022-05-29T18:00:00",
          "2022-05-29T19:00:00",
          "2022-05-29T20:00:00",
          "2022-05-29T21:00:00",
          "2022-05-29T22:00:00",
          "2022-05-29T23:00:00",
          "2022-05-30T00:00:00",
          "2022-05-30T01:00:00",
          "2022-05-30T02:00:00",
          "2022-05-30T03:00:00",
          "2022-05-30T04:00:00",
          "2022-05-30T05:00:00",
          "2022-05-30T06:00:00",
          "2022-05-30T07:00:00",
          "2022-05-30T08:00:00",
          "2022-05-30T09:00:00",
          "2022-05-30T10:00:00",
          "2022-05-30T11:00:00",
          "2022-05-30T12:00:00",
          "2022-05-30T13:00:00",
          "2022-05-30T14:00:00",
          "2022-05-30T15:00:00",
          "2022-05-30T16:00:00",
          "2022-05-30T17:00:00",
          "2022-05-30T18:00:00",
          "2022-05-30T19:00:00",
          "2022-05-30T20:00:00",
          "2022-05-30T21:00:00",
          "2022-05-30T22:00:00",
          "2022-05-30T23:00:00",
          "2022-05-31T00:00:00",
          "2022-05-31T01:00:00",
          "2022-05-31T02:00:00",
          "2022-05-31T03:00:00",
          "2022-05-31T04:00:00",
          "2022-05-31T05:00:00",
          "2022-05-31T06:00:00",
          "2022-05-31T07:00:00",
          "2022-05-31T08:00:00",
          "2022-05-31T09:00:00",
          "2022-05-31T10:00:00",
          "2022-05-31T11:00:00",
          "2022-05-31T12:00:00",
          "2022-05-31T13:00:00",
          "2022-05-31T14:00:00",
          "2022-05-31T15:00:00",
          "2022-05-31T16:00:00",
          "2022-05-31T17:00:00",
          "2022-05-31T18:00:00",
          "2022-05-31T19:00:00",
          "2022-05-31T20:00:00",
          "2022-05-31T21:00:00",
          "2022-05-31T22:00:00",
          "2022-05-31T23:00:00",
          "2022-06-01T00:00:00",
          "2022-06-01T01:00:00",
          "2022-06-01T02:00:00",
          "2022-06-01T03:00:00",
          "2022-06-01T04:00:00",
          "2022-06-01T05:00:00",
          "2022-06-01T06:00:00",
          "2022-06-01T07:00:00",
          "2022-06-01T08:00:00",
          "2022-06-01T09:00:00",
          "2022-06-01T10:00:00",
          "2022-06-01T11:00:00",
          "2022-06-01T12:00:00",
          "2022-06-01T13:00:00",
          "2022-06-01T14:00:00",
          "2022-06-01T15:00:00",
          "2022-06-01T16:00:00",
          "2022-06-01T17:00:00",
          "2022-06-01T18:00:00",
          "2022-06-01T19:00:00",
          "2022-06-01T20:00:00",
          "2022-06-01T21:00:00",
          "2022-06-01T22:00:00",
          "2022-06-01T23:00:00",
          "2022-06-02T00:00:00",
          "2022-06-02T01:00:00",
          "2022-06-02T02:00:00",
          "2022-06-02T03:00:00",
          "2022-06-02T04:00:00",
          "2022-06-02T05:00:00",
          "2022-06-02T06:00:00",
          "2022-06-02T07:00:00",
          "2022-06-02T08:00:00",
          "2022-06-02T09:00:00",
          "2022-06-02T10:00:00",
          "2022-06-02T11:00:00",
          "2022-06-02T12:00:00",
          "2022-06-02T13:00:00",
          "2022-06-02T14:00:00",
          "2022-06-02T15:00:00",
          "2022-06-02T16:00:00",
          "2022-06-02T17:00:00",
          "2022-06-02T18:00:00",
          "2022-06-02T19:00:00",
          "2022-06-02T20:00:00",
          "2022-06-02T21:00:00",
          "2022-06-02T22:00:00",
          "2022-06-02T23:00:00",
          "2022-06-03T00:00:00",
          "2022-06-03T01:00:00",
          "2022-06-03T02:00:00",
          "2022-06-03T03:00:00",
          "2022-06-03T04:00:00",
          "2022-06-03T05:00:00",
          "2022-06-03T06:00:00",
          "2022-06-03T07:00:00",
          "2022-06-03T08:00:00",
          "2022-06-03T09:00:00",
          "2022-06-03T10:00:00",
          "2022-06-03T11:00:00",
          "2022-06-03T12:00:00",
          "2022-06-03T13:00:00",
          "2022-06-03T14:00:00",
          "2022-06-03T15:00:00",
          "2022-06-03T16:00:00",
          "2022-06-03T17:00:00",
          "2022-06-03T18:00:00",
          "2022-06-03T19:00:00",
          "2022-06-03T20:00:00",
          "2022-06-03T21:00:00",
          "2022-06-03T22:00:00",
          "2022-06-03T23:00:00",
          "2022-06-04T00:00:00"
         ],
         "xaxis": "x",
         "y": [
          247,
          186,
          145,
          83,
          64,
          33,
          43,
          68,
          93,
          170,
          156,
          215,
          236,
          231,
          214,
          191,
          241,
          233,
          244,
          243,
          201,
          225,
          281,
          281,
          277,
          216,
          167,
          113,
          107,
          43,
          49,
          58,
          64,
          126,
          131,
          167,
          172,
          173,
          187,
          181,
          169,
          214,
          238,
          193,
          185,
          166,
          169,
          126,
          88,
          58,
          40,
          27,
          25,
          57,
          116,
          152,
          126,
          144,
          130,
          121,
          122,
          118,
          147,
          131,
          139,
          150,
          212,
          184,
          165,
          179,
          219,
          146,
          82,
          37,
          28,
          17,
          16,
          54,
          125,
          166,
          135,
          147,
          143,
          129,
          123,
          108,
          154,
          148,
          137,
          175,
          206,
          204,
          232,
          284,
          232,
          230,
          121,
          66,
          45,
          34,
          27,
          42,
          151,
          148,
          155,
          152,
          136,
          121,
          129,
          133,
          157,
          154,
          193,
          251,
          263,
          248,
          210,
          276,
          332,
          271,
          139,
          89,
          39,
          38,
          37,
          63,
          124,
          181,
          117,
          151,
          125,
          137,
          154,
          177,
          158,
          183,
          146,
          228,
          234,
          209,
          255,
          331,
          313,
          310,
          205,
          122,
          79,
          58,
          51,
          47,
          106,
          115,
          129,
          153,
          151,
          146,
          119,
          131,
          152,
          165,
          166,
          200,
          274,
          304,
          207,
          254,
          319,
          321,
          318,
          250,
          167,
          155,
          100,
          44,
          66,
          71,
          77,
          123,
          138,
          162,
          141,
          169,
          156,
          166,
          163,
          202,
          244,
          229,
          165,
          242,
          258,
          274,
          282,
          233,
          179,
          131,
          102,
          44,
          57,
          70,
          68,
          138,
          144,
          131,
          120,
          168,
          137,
          149,
          113,
          164,
          164,
          180,
          161,
          191,
          197,
          145,
          101,
          65,
          59,
          41,
          32,
          49,
          124,
          120,
          122,
          121,
          157,
          140,
          130,
          161,
          142,
          148,
          133,
          162,
          237,
          215,
          162,
          194,
          178,
          124,
          85,
          57,
          29,
          25,
          22,
          49,
          119,
          143,
          149,
          150,
          136,
          145,
          142,
          158,
          145,
          147,
          125,
          219,
          253,
          210,
          245,
          255,
          266,
          235,
          137,
          71,
          49,
          28,
          26,
          61,
          134,
          124,
          105,
          130,
          151,
          137,
          140,
          146,
          182,
          138,
          145,
          183,
          220,
          235,
          211,
          291,
          316,
          272,
          206,
          84,
          54,
          33,
          38,
          63,
          147,
          122,
          114,
          125,
          149,
          155,
          144,
          162,
          161,
          138,
          148,
          180,
          220,
          196,
          220,
          289,
          308,
          273,
          199,
          114,
          91,
          61,
          46,
          67,
          109,
          127,
          131,
          133,
          148,
          147,
          148,
          111,
          139,
          124,
          160,
          223,
          277,
          232,
          234,
          246,
          337,
          299,
          265,
          189,
          147,
          123,
          89,
          44,
          48,
          70,
          97,
          126,
          163,
          161,
          185,
          176,
          142,
          151,
          148,
          207,
          227,
          228,
          196,
          264,
          267,
          254,
          297,
          243,
          178,
          123,
          75,
          71,
          68,
          54,
          102,
          121,
          173,
          182,
          182,
          193,
          188,
          159,
          156,
          212,
          233,
          221,
          199,
          200,
          206,
          115,
          114,
          59,
          38,
          21,
          36,
          64,
          128,
          119,
          124,
          114,
          142,
          124,
          130,
          129,
          135,
          135,
          117,
          171,
          212,
          160,
          151,
          170,
          207,
          151,
          98,
          55,
          33,
          21,
          17,
          55,
          133,
          150,
          139,
          130,
          161,
          132,
          141,
          122,
          161,
          128,
          162,
          171,
          227,
          174,
          223,
          261,
          261,
          213,
          123,
          87,
          43,
          32,
          20,
          66,
          132,
          156,
          150,
          151,
          162,
          111,
          144,
          121,
          166,
          123,
          164,
          183,
          209,
          179,
          225,
          252,
          298,
          235,
          174,
          107,
          60,
          41,
          34,
          69,
          113,
          124,
          134,
          139,
          160,
          123,
          120,
          138,
          138,
          115,
          158,
          185,
          185,
          206,
          212,
          256,
          266,
          246,
          164,
          105,
          82,
          59,
          50,
          64,
          87,
          114,
          118,
          164,
          146,
          117,
          132,
          129,
          153,
          116,
          186,
          214,
          189,
          186,
          158,
          204,
          273,
          248,
          266,
          214,
          134,
          119,
          84,
          51,
          48,
          55,
          73,
          103,
          149,
          158,
          180,
          203,
          157,
          145,
          210,
          229,
          229,
          210,
          182,
          228,
          282,
          280,
          258,
          212,
          172,
          123,
          83,
          42,
          34,
          46,
          68,
          117,
          162,
          163,
          181,
          164,
          189,
          134,
          183,
          225,
          197,
          191,
          158,
          198,
          229,
          168,
          164,
          142,
          76,
          67,
          47,
          32,
          49,
          70,
          71,
          104,
          136,
          141,
          164,
          136,
          149,
          142,
          129,
          134,
          166,
          141,
          129,
          151,
          171,
          109,
          72,
          52,
          26,
          17,
          28,
          57,
          109,
          150,
          110,
          130,
          162,
          135,
          134,
          130,
          125,
          116,
          157,
          195,
          236,
          155,
          180,
          233,
          189,
          130,
          86,
          50,
          40,
          25,
          30,
          57,
          104,
          165,
          124,
          165,
          141,
          117,
          170,
          153,
          153,
          132,
          186,
          198,
          230,
          237,
          247,
          265,
          275,
          225,
          92,
          64,
          27,
          21,
          25,
          60,
          104,
          169,
          131,
          158,
          151,
          142,
          153,
          138,
          135,
          110,
          194,
          199,
          253,
          164,
          197,
          273,
          273,
          237,
          167,
          105,
          77,
          51,
          33,
          53,
          92,
          129,
          102,
          130,
          161,
          153,
          137,
          141,
          133,
          129,
          160,
          196,
          189,
          219,
          148,
          239,
          298,
          347,
          304
         ],
         "yaxis": "y"
        },
        {
         "line": {
          "color": "green"
         },
         "marker": {
          "size": 10
         },
         "mode": "markers",
         "name": "actual value",
         "type": "scatter",
         "x": [
          "2022-06-04T00:00:00"
         ],
         "y": [
          304
         ]
        },
        {
         "line": {
          "color": "red"
         },
         "marker": {
          "size": 15,
          "symbol": "x"
         },
         "mode": "markers",
         "name": "prediction",
         "type": "scatter",
         "x": [
          "2022-06-04T00:00:00"
         ],
         "y": [
          298.82733888446364
         ]
        }
       ],
       "layout": {
        "legend": {
         "tracegroupgap": 0
        },
        "template": {
         "data": {
          "bar": [
           {
            "error_x": {
             "color": "#f2f5fa"
            },
            "error_y": {
             "color": "#f2f5fa"
            },
            "marker": {
             "line": {
              "color": "rgb(17,17,17)",
              "width": 0.5
             },
             "pattern": {
              "fillmode": "overlay",
              "size": 10,
              "solidity": 0.2
             }
            },
            "type": "bar"
           }
          ],
          "barpolar": [
           {
            "marker": {
             "line": {
              "color": "rgb(17,17,17)",
              "width": 0.5
             },
             "pattern": {
              "fillmode": "overlay",
              "size": 10,
              "solidity": 0.2
             }
            },
            "type": "barpolar"
           }
          ],
          "carpet": [
           {
            "aaxis": {
             "endlinecolor": "#A2B1C6",
             "gridcolor": "#506784",
             "linecolor": "#506784",
             "minorgridcolor": "#506784",
             "startlinecolor": "#A2B1C6"
            },
            "baxis": {
             "endlinecolor": "#A2B1C6",
             "gridcolor": "#506784",
             "linecolor": "#506784",
             "minorgridcolor": "#506784",
             "startlinecolor": "#A2B1C6"
            },
            "type": "carpet"
           }
          ],
          "choropleth": [
           {
            "colorbar": {
             "outlinewidth": 0,
             "ticks": ""
            },
            "type": "choropleth"
           }
          ],
          "contour": [
           {
            "colorbar": {
             "outlinewidth": 0,
             "ticks": ""
            },
            "colorscale": [
             [
              0,
              "#0d0887"
             ],
             [
              0.1111111111111111,
              "#46039f"
             ],
             [
              0.2222222222222222,
              "#7201a8"
             ],
             [
              0.3333333333333333,
              "#9c179e"
             ],
             [
              0.4444444444444444,
              "#bd3786"
             ],
             [
              0.5555555555555556,
              "#d8576b"
             ],
             [
              0.6666666666666666,
              "#ed7953"
             ],
             [
              0.7777777777777778,
              "#fb9f3a"
             ],
             [
              0.8888888888888888,
              "#fdca26"
             ],
             [
              1,
              "#f0f921"
             ]
            ],
            "type": "contour"
           }
          ],
          "contourcarpet": [
           {
            "colorbar": {
             "outlinewidth": 0,
             "ticks": ""
            },
            "type": "contourcarpet"
           }
          ],
          "heatmap": [
           {
            "colorbar": {
             "outlinewidth": 0,
             "ticks": ""
            },
            "colorscale": [
             [
              0,
              "#0d0887"
             ],
             [
              0.1111111111111111,
              "#46039f"
             ],
             [
              0.2222222222222222,
              "#7201a8"
             ],
             [
              0.3333333333333333,
              "#9c179e"
             ],
             [
              0.4444444444444444,
              "#bd3786"
             ],
             [
              0.5555555555555556,
              "#d8576b"
             ],
             [
              0.6666666666666666,
              "#ed7953"
             ],
             [
              0.7777777777777778,
              "#fb9f3a"
             ],
             [
              0.8888888888888888,
              "#fdca26"
             ],
             [
              1,
              "#f0f921"
             ]
            ],
            "type": "heatmap"
           }
          ],
          "heatmapgl": [
           {
            "colorbar": {
             "outlinewidth": 0,
             "ticks": ""
            },
            "colorscale": [
             [
              0,
              "#0d0887"
             ],
             [
              0.1111111111111111,
              "#46039f"
             ],
             [
              0.2222222222222222,
              "#7201a8"
             ],
             [
              0.3333333333333333,
              "#9c179e"
             ],
             [
              0.4444444444444444,
              "#bd3786"
             ],
             [
              0.5555555555555556,
              "#d8576b"
             ],
             [
              0.6666666666666666,
              "#ed7953"
             ],
             [
              0.7777777777777778,
              "#fb9f3a"
             ],
             [
              0.8888888888888888,
              "#fdca26"
             ],
             [
              1,
              "#f0f921"
             ]
            ],
            "type": "heatmapgl"
           }
          ],
          "histogram": [
           {
            "marker": {
             "pattern": {
              "fillmode": "overlay",
              "size": 10,
              "solidity": 0.2
             }
            },
            "type": "histogram"
           }
          ],
          "histogram2d": [
           {
            "colorbar": {
             "outlinewidth": 0,
             "ticks": ""
            },
            "colorscale": [
             [
              0,
              "#0d0887"
             ],
             [
              0.1111111111111111,
              "#46039f"
             ],
             [
              0.2222222222222222,
              "#7201a8"
             ],
             [
              0.3333333333333333,
              "#9c179e"
             ],
             [
              0.4444444444444444,
              "#bd3786"
             ],
             [
              0.5555555555555556,
              "#d8576b"
             ],
             [
              0.6666666666666666,
              "#ed7953"
             ],
             [
              0.7777777777777778,
              "#fb9f3a"
             ],
             [
              0.8888888888888888,
              "#fdca26"
             ],
             [
              1,
              "#f0f921"
             ]
            ],
            "type": "histogram2d"
           }
          ],
          "histogram2dcontour": [
           {
            "colorbar": {
             "outlinewidth": 0,
             "ticks": ""
            },
            "colorscale": [
             [
              0,
              "#0d0887"
             ],
             [
              0.1111111111111111,
              "#46039f"
             ],
             [
              0.2222222222222222,
              "#7201a8"
             ],
             [
              0.3333333333333333,
              "#9c179e"
             ],
             [
              0.4444444444444444,
              "#bd3786"
             ],
             [
              0.5555555555555556,
              "#d8576b"
             ],
             [
              0.6666666666666666,
              "#ed7953"
             ],
             [
              0.7777777777777778,
              "#fb9f3a"
             ],
             [
              0.8888888888888888,
              "#fdca26"
             ],
             [
              1,
              "#f0f921"
             ]
            ],
            "type": "histogram2dcontour"
           }
          ],
          "mesh3d": [
           {
            "colorbar": {
             "outlinewidth": 0,
             "ticks": ""
            },
            "type": "mesh3d"
           }
          ],
          "parcoords": [
           {
            "line": {
             "colorbar": {
              "outlinewidth": 0,
              "ticks": ""
             }
            },
            "type": "parcoords"
           }
          ],
          "pie": [
           {
            "automargin": true,
            "type": "pie"
           }
          ],
          "scatter": [
           {
            "marker": {
             "line": {
              "color": "#283442"
             }
            },
            "type": "scatter"
           }
          ],
          "scatter3d": [
           {
            "line": {
             "colorbar": {
              "outlinewidth": 0,
              "ticks": ""
             }
            },
            "marker": {
             "colorbar": {
              "outlinewidth": 0,
              "ticks": ""
             }
            },
            "type": "scatter3d"
           }
          ],
          "scattercarpet": [
           {
            "marker": {
             "colorbar": {
              "outlinewidth": 0,
              "ticks": ""
             }
            },
            "type": "scattercarpet"
           }
          ],
          "scattergeo": [
           {
            "marker": {
             "colorbar": {
              "outlinewidth": 0,
              "ticks": ""
             }
            },
            "type": "scattergeo"
           }
          ],
          "scattergl": [
           {
            "marker": {
             "line": {
              "color": "#283442"
             }
            },
            "type": "scattergl"
           }
          ],
          "scattermapbox": [
           {
            "marker": {
             "colorbar": {
              "outlinewidth": 0,
              "ticks": ""
             }
            },
            "type": "scattermapbox"
           }
          ],
          "scatterpolar": [
           {
            "marker": {
             "colorbar": {
              "outlinewidth": 0,
              "ticks": ""
             }
            },
            "type": "scatterpolar"
           }
          ],
          "scatterpolargl": [
           {
            "marker": {
             "colorbar": {
              "outlinewidth": 0,
              "ticks": ""
             }
            },
            "type": "scatterpolargl"
           }
          ],
          "scatterternary": [
           {
            "marker": {
             "colorbar": {
              "outlinewidth": 0,
              "ticks": ""
             }
            },
            "type": "scatterternary"
           }
          ],
          "surface": [
           {
            "colorbar": {
             "outlinewidth": 0,
             "ticks": ""
            },
            "colorscale": [
             [
              0,
              "#0d0887"
             ],
             [
              0.1111111111111111,
              "#46039f"
             ],
             [
              0.2222222222222222,
              "#7201a8"
             ],
             [
              0.3333333333333333,
              "#9c179e"
             ],
             [
              0.4444444444444444,
              "#bd3786"
             ],
             [
              0.5555555555555556,
              "#d8576b"
             ],
             [
              0.6666666666666666,
              "#ed7953"
             ],
             [
              0.7777777777777778,
              "#fb9f3a"
             ],
             [
              0.8888888888888888,
              "#fdca26"
             ],
             [
              1,
              "#f0f921"
             ]
            ],
            "type": "surface"
           }
          ],
          "table": [
           {
            "cells": {
             "fill": {
              "color": "#506784"
             },
             "line": {
              "color": "rgb(17,17,17)"
             }
            },
            "header": {
             "fill": {
              "color": "#2a3f5f"
             },
             "line": {
              "color": "rgb(17,17,17)"
             }
            },
            "type": "table"
           }
          ]
         },
         "layout": {
          "annotationdefaults": {
           "arrowcolor": "#f2f5fa",
           "arrowhead": 0,
           "arrowwidth": 1
          },
          "autotypenumbers": "strict",
          "coloraxis": {
           "colorbar": {
            "outlinewidth": 0,
            "ticks": ""
           }
          },
          "colorscale": {
           "diverging": [
            [
             0,
             "#8e0152"
            ],
            [
             0.1,
             "#c51b7d"
            ],
            [
             0.2,
             "#de77ae"
            ],
            [
             0.3,
             "#f1b6da"
            ],
            [
             0.4,
             "#fde0ef"
            ],
            [
             0.5,
             "#f7f7f7"
            ],
            [
             0.6,
             "#e6f5d0"
            ],
            [
             0.7,
             "#b8e186"
            ],
            [
             0.8,
             "#7fbc41"
            ],
            [
             0.9,
             "#4d9221"
            ],
            [
             1,
             "#276419"
            ]
           ],
           "sequential": [
            [
             0,
             "#0d0887"
            ],
            [
             0.1111111111111111,
             "#46039f"
            ],
            [
             0.2222222222222222,
             "#7201a8"
            ],
            [
             0.3333333333333333,
             "#9c179e"
            ],
            [
             0.4444444444444444,
             "#bd3786"
            ],
            [
             0.5555555555555556,
             "#d8576b"
            ],
            [
             0.6666666666666666,
             "#ed7953"
            ],
            [
             0.7777777777777778,
             "#fb9f3a"
            ],
            [
             0.8888888888888888,
             "#fdca26"
            ],
            [
             1,
             "#f0f921"
            ]
           ],
           "sequentialminus": [
            [
             0,
             "#0d0887"
            ],
            [
             0.1111111111111111,
             "#46039f"
            ],
            [
             0.2222222222222222,
             "#7201a8"
            ],
            [
             0.3333333333333333,
             "#9c179e"
            ],
            [
             0.4444444444444444,
             "#bd3786"
            ],
            [
             0.5555555555555556,
             "#d8576b"
            ],
            [
             0.6666666666666666,
             "#ed7953"
            ],
            [
             0.7777777777777778,
             "#fb9f3a"
            ],
            [
             0.8888888888888888,
             "#fdca26"
            ],
            [
             1,
             "#f0f921"
            ]
           ]
          },
          "colorway": [
           "#636efa",
           "#EF553B",
           "#00cc96",
           "#ab63fa",
           "#FFA15A",
           "#19d3f3",
           "#FF6692",
           "#B6E880",
           "#FF97FF",
           "#FECB52"
          ],
          "font": {
           "color": "#f2f5fa"
          },
          "geo": {
           "bgcolor": "rgb(17,17,17)",
           "lakecolor": "rgb(17,17,17)",
           "landcolor": "rgb(17,17,17)",
           "showlakes": true,
           "showland": true,
           "subunitcolor": "#506784"
          },
          "hoverlabel": {
           "align": "left"
          },
          "hovermode": "closest",
          "mapbox": {
           "style": "dark"
          },
          "paper_bgcolor": "rgb(17,17,17)",
          "plot_bgcolor": "rgb(17,17,17)",
          "polar": {
           "angularaxis": {
            "gridcolor": "#506784",
            "linecolor": "#506784",
            "ticks": ""
           },
           "bgcolor": "rgb(17,17,17)",
           "radialaxis": {
            "gridcolor": "#506784",
            "linecolor": "#506784",
            "ticks": ""
           }
          },
          "scene": {
           "xaxis": {
            "backgroundcolor": "rgb(17,17,17)",
            "gridcolor": "#506784",
            "gridwidth": 2,
            "linecolor": "#506784",
            "showbackground": true,
            "ticks": "",
            "zerolinecolor": "#C8D4E3"
           },
           "yaxis": {
            "backgroundcolor": "rgb(17,17,17)",
            "gridcolor": "#506784",
            "gridwidth": 2,
            "linecolor": "#506784",
            "showbackground": true,
            "ticks": "",
            "zerolinecolor": "#C8D4E3"
           },
           "zaxis": {
            "backgroundcolor": "rgb(17,17,17)",
            "gridcolor": "#506784",
            "gridwidth": 2,
            "linecolor": "#506784",
            "showbackground": true,
            "ticks": "",
            "zerolinecolor": "#C8D4E3"
           }
          },
          "shapedefaults": {
           "line": {
            "color": "#f2f5fa"
           }
          },
          "sliderdefaults": {
           "bgcolor": "#C8D4E3",
           "bordercolor": "rgb(17,17,17)",
           "borderwidth": 1,
           "tickwidth": 0
          },
          "ternary": {
           "aaxis": {
            "gridcolor": "#506784",
            "linecolor": "#506784",
            "ticks": ""
           },
           "baxis": {
            "gridcolor": "#506784",
            "linecolor": "#506784",
            "ticks": ""
           },
           "bgcolor": "rgb(17,17,17)",
           "caxis": {
            "gridcolor": "#506784",
            "linecolor": "#506784",
            "ticks": ""
           }
          },
          "title": {
           "x": 0.05
          },
          "updatemenudefaults": {
           "bgcolor": "#506784",
           "borderwidth": 0
          },
          "xaxis": {
           "automargin": true,
           "gridcolor": "#283442",
           "linecolor": "#506784",
           "ticks": "",
           "title": {
            "standoff": 15
           },
           "zerolinecolor": "#283442",
           "zerolinewidth": 2
          },
          "yaxis": {
           "automargin": true,
           "gridcolor": "#283442",
           "linecolor": "#506784",
           "ticks": "",
           "title": {
            "standoff": 15
           },
           "zerolinecolor": "#283442",
           "zerolinewidth": 2
          }
         }
        },
        "title": {
         "text": "Pick up hour=2022-06-04 00:00:00, location_id=48"
        },
        "xaxis": {
         "anchor": "y",
         "domain": [
          0,
          1
         ],
         "title": {
          "text": "x"
         }
        },
        "yaxis": {
         "anchor": "x",
         "domain": [
          0,
          1
         ],
         "title": {
          "text": "y"
         }
        }
       }
      }
     },
     "metadata": {},
     "output_type": "display_data"
    }
   ],
   "source": [
    "plot_one_sample(\n",
    "    example_id=7194,\n",
    "    features=X_test,\n",
    "    targets=y_test,\n",
    "    predictions=pd.Series(predictions)\n",
    ")"
   ]
  },
  {
   "cell_type": "code",
   "execution_count": 24,
   "metadata": {},
   "outputs": [
    {
     "data": {
      "text/plain": [
       "count    40545.000000\n",
       "mean        11.927790\n",
       "std         35.337048\n",
       "min          0.000000\n",
       "25%          0.000000\n",
       "50%          0.000000\n",
       "75%          2.500000\n",
       "max        463.000000\n",
       "Name: average_rides_last_4_weeks, dtype: float64"
      ]
     },
     "execution_count": 24,
     "metadata": {},
     "output_type": "execute_result"
    }
   ],
   "source": [
    "X_test.average_rides_last_4_weeks.describe()"
   ]
  },
  {
   "cell_type": "code",
   "execution_count": 28,
   "metadata": {},
   "outputs": [
    {
     "data": {
      "text/html": [
       "<div>\n",
       "<style scoped>\n",
       "    .dataframe tbody tr th:only-of-type {\n",
       "        vertical-align: middle;\n",
       "    }\n",
       "\n",
       "    .dataframe tbody tr th {\n",
       "        vertical-align: top;\n",
       "    }\n",
       "\n",
       "    .dataframe thead th {\n",
       "        text-align: right;\n",
       "    }\n",
       "</style>\n",
       "<table border=\"1\" class=\"dataframe\">\n",
       "  <thead>\n",
       "    <tr style=\"text-align: right;\">\n",
       "      <th></th>\n",
       "      <th>rides_previous_672_hour</th>\n",
       "      <th>rides_previous_671_hour</th>\n",
       "      <th>rides_previous_670_hour</th>\n",
       "      <th>rides_previous_669_hour</th>\n",
       "      <th>rides_previous_668_hour</th>\n",
       "      <th>rides_previous_667_hour</th>\n",
       "      <th>rides_previous_666_hour</th>\n",
       "      <th>rides_previous_665_hour</th>\n",
       "      <th>rides_previous_664_hour</th>\n",
       "      <th>rides_previous_663_hour</th>\n",
       "      <th>...</th>\n",
       "      <th>rides_previous_7_hour</th>\n",
       "      <th>rides_previous_6_hour</th>\n",
       "      <th>rides_previous_5_hour</th>\n",
       "      <th>rides_previous_4_hour</th>\n",
       "      <th>rides_previous_3_hour</th>\n",
       "      <th>rides_previous_2_hour</th>\n",
       "      <th>rides_previous_1_hour</th>\n",
       "      <th>pickup_hour</th>\n",
       "      <th>pickup_location_id</th>\n",
       "      <th>average_rides_last_4_weeks</th>\n",
       "    </tr>\n",
       "  </thead>\n",
       "  <tbody>\n",
       "    <tr>\n",
       "      <th>7194</th>\n",
       "      <td>247.0</td>\n",
       "      <td>186.0</td>\n",
       "      <td>145.0</td>\n",
       "      <td>83.0</td>\n",
       "      <td>64.0</td>\n",
       "      <td>33.0</td>\n",
       "      <td>43.0</td>\n",
       "      <td>68.0</td>\n",
       "      <td>93.0</td>\n",
       "      <td>170.0</td>\n",
       "      <td>...</td>\n",
       "      <td>196.0</td>\n",
       "      <td>189.0</td>\n",
       "      <td>219.0</td>\n",
       "      <td>148.0</td>\n",
       "      <td>239.0</td>\n",
       "      <td>298.0</td>\n",
       "      <td>347.0</td>\n",
       "      <td>2022-06-04</td>\n",
       "      <td>48</td>\n",
       "      <td>274.00</td>\n",
       "    </tr>\n",
       "    <tr>\n",
       "      <th>7195</th>\n",
       "      <td>277.0</td>\n",
       "      <td>216.0</td>\n",
       "      <td>167.0</td>\n",
       "      <td>113.0</td>\n",
       "      <td>107.0</td>\n",
       "      <td>43.0</td>\n",
       "      <td>49.0</td>\n",
       "      <td>58.0</td>\n",
       "      <td>64.0</td>\n",
       "      <td>126.0</td>\n",
       "      <td>...</td>\n",
       "      <td>225.0</td>\n",
       "      <td>261.0</td>\n",
       "      <td>230.0</td>\n",
       "      <td>169.0</td>\n",
       "      <td>248.0</td>\n",
       "      <td>296.0</td>\n",
       "      <td>299.0</td>\n",
       "      <td>2022-06-05</td>\n",
       "      <td>48</td>\n",
       "      <td>278.50</td>\n",
       "    </tr>\n",
       "    <tr>\n",
       "      <th>7201</th>\n",
       "      <td>318.0</td>\n",
       "      <td>250.0</td>\n",
       "      <td>167.0</td>\n",
       "      <td>155.0</td>\n",
       "      <td>100.0</td>\n",
       "      <td>44.0</td>\n",
       "      <td>66.0</td>\n",
       "      <td>71.0</td>\n",
       "      <td>77.0</td>\n",
       "      <td>123.0</td>\n",
       "      <td>...</td>\n",
       "      <td>213.0</td>\n",
       "      <td>215.0</td>\n",
       "      <td>249.0</td>\n",
       "      <td>194.0</td>\n",
       "      <td>264.0</td>\n",
       "      <td>268.0</td>\n",
       "      <td>297.0</td>\n",
       "      <td>2022-06-11</td>\n",
       "      <td>48</td>\n",
       "      <td>288.25</td>\n",
       "    </tr>\n",
       "    <tr>\n",
       "      <th>7202</th>\n",
       "      <td>282.0</td>\n",
       "      <td>233.0</td>\n",
       "      <td>179.0</td>\n",
       "      <td>131.0</td>\n",
       "      <td>102.0</td>\n",
       "      <td>44.0</td>\n",
       "      <td>57.0</td>\n",
       "      <td>70.0</td>\n",
       "      <td>68.0</td>\n",
       "      <td>138.0</td>\n",
       "      <td>...</td>\n",
       "      <td>209.0</td>\n",
       "      <td>204.0</td>\n",
       "      <td>215.0</td>\n",
       "      <td>149.0</td>\n",
       "      <td>226.0</td>\n",
       "      <td>284.0</td>\n",
       "      <td>263.0</td>\n",
       "      <td>2022-06-12</td>\n",
       "      <td>48</td>\n",
       "      <td>287.50</td>\n",
       "    </tr>\n",
       "    <tr>\n",
       "      <th>7208</th>\n",
       "      <td>265.0</td>\n",
       "      <td>189.0</td>\n",
       "      <td>147.0</td>\n",
       "      <td>123.0</td>\n",
       "      <td>89.0</td>\n",
       "      <td>44.0</td>\n",
       "      <td>48.0</td>\n",
       "      <td>70.0</td>\n",
       "      <td>97.0</td>\n",
       "      <td>126.0</td>\n",
       "      <td>...</td>\n",
       "      <td>188.0</td>\n",
       "      <td>215.0</td>\n",
       "      <td>236.0</td>\n",
       "      <td>203.0</td>\n",
       "      <td>258.0</td>\n",
       "      <td>299.0</td>\n",
       "      <td>274.0</td>\n",
       "      <td>2022-06-18</td>\n",
       "      <td>48</td>\n",
       "      <td>288.25</td>\n",
       "    </tr>\n",
       "    <tr>\n",
       "      <th>...</th>\n",
       "      <td>...</td>\n",
       "      <td>...</td>\n",
       "      <td>...</td>\n",
       "      <td>...</td>\n",
       "      <td>...</td>\n",
       "      <td>...</td>\n",
       "      <td>...</td>\n",
       "      <td>...</td>\n",
       "      <td>...</td>\n",
       "      <td>...</td>\n",
       "      <td>...</td>\n",
       "      <td>...</td>\n",
       "      <td>...</td>\n",
       "      <td>...</td>\n",
       "      <td>...</td>\n",
       "      <td>...</td>\n",
       "      <td>...</td>\n",
       "      <td>...</td>\n",
       "      <td>...</td>\n",
       "      <td>...</td>\n",
       "      <td>...</td>\n",
       "    </tr>\n",
       "    <tr>\n",
       "      <th>38087</th>\n",
       "      <td>241.0</td>\n",
       "      <td>333.0</td>\n",
       "      <td>266.0</td>\n",
       "      <td>180.0</td>\n",
       "      <td>57.0</td>\n",
       "      <td>11.0</td>\n",
       "      <td>8.0</td>\n",
       "      <td>26.0</td>\n",
       "      <td>52.0</td>\n",
       "      <td>57.0</td>\n",
       "      <td>...</td>\n",
       "      <td>109.0</td>\n",
       "      <td>142.0</td>\n",
       "      <td>202.0</td>\n",
       "      <td>245.0</td>\n",
       "      <td>254.0</td>\n",
       "      <td>268.0</td>\n",
       "      <td>282.0</td>\n",
       "      <td>2022-10-22</td>\n",
       "      <td>249</td>\n",
       "      <td>243.50</td>\n",
       "    </tr>\n",
       "    <tr>\n",
       "      <th>38088</th>\n",
       "      <td>219.0</td>\n",
       "      <td>309.0</td>\n",
       "      <td>253.0</td>\n",
       "      <td>197.0</td>\n",
       "      <td>96.0</td>\n",
       "      <td>10.0</td>\n",
       "      <td>11.0</td>\n",
       "      <td>25.0</td>\n",
       "      <td>20.0</td>\n",
       "      <td>32.0</td>\n",
       "      <td>...</td>\n",
       "      <td>172.0</td>\n",
       "      <td>192.0</td>\n",
       "      <td>237.0</td>\n",
       "      <td>222.0</td>\n",
       "      <td>275.0</td>\n",
       "      <td>272.0</td>\n",
       "      <td>239.0</td>\n",
       "      <td>2022-10-23</td>\n",
       "      <td>249</td>\n",
       "      <td>223.00</td>\n",
       "    </tr>\n",
       "    <tr>\n",
       "      <th>38093</th>\n",
       "      <td>259.0</td>\n",
       "      <td>180.0</td>\n",
       "      <td>88.0</td>\n",
       "      <td>53.0</td>\n",
       "      <td>15.0</td>\n",
       "      <td>11.0</td>\n",
       "      <td>19.0</td>\n",
       "      <td>52.0</td>\n",
       "      <td>74.0</td>\n",
       "      <td>77.0</td>\n",
       "      <td>...</td>\n",
       "      <td>108.0</td>\n",
       "      <td>172.0</td>\n",
       "      <td>164.0</td>\n",
       "      <td>200.0</td>\n",
       "      <td>233.0</td>\n",
       "      <td>207.0</td>\n",
       "      <td>193.0</td>\n",
       "      <td>2022-10-28</td>\n",
       "      <td>249</td>\n",
       "      <td>222.50</td>\n",
       "    </tr>\n",
       "    <tr>\n",
       "      <th>38094</th>\n",
       "      <td>250.0</td>\n",
       "      <td>334.0</td>\n",
       "      <td>278.0</td>\n",
       "      <td>185.0</td>\n",
       "      <td>45.0</td>\n",
       "      <td>11.0</td>\n",
       "      <td>9.0</td>\n",
       "      <td>28.0</td>\n",
       "      <td>34.0</td>\n",
       "      <td>51.0</td>\n",
       "      <td>...</td>\n",
       "      <td>119.0</td>\n",
       "      <td>160.0</td>\n",
       "      <td>207.0</td>\n",
       "      <td>192.0</td>\n",
       "      <td>212.0</td>\n",
       "      <td>258.0</td>\n",
       "      <td>175.0</td>\n",
       "      <td>2022-10-29</td>\n",
       "      <td>249</td>\n",
       "      <td>255.00</td>\n",
       "    </tr>\n",
       "    <tr>\n",
       "      <th>38095</th>\n",
       "      <td>312.0</td>\n",
       "      <td>340.0</td>\n",
       "      <td>236.0</td>\n",
       "      <td>165.0</td>\n",
       "      <td>76.0</td>\n",
       "      <td>12.0</td>\n",
       "      <td>2.0</td>\n",
       "      <td>12.0</td>\n",
       "      <td>22.0</td>\n",
       "      <td>37.0</td>\n",
       "      <td>...</td>\n",
       "      <td>163.0</td>\n",
       "      <td>200.0</td>\n",
       "      <td>237.0</td>\n",
       "      <td>251.0</td>\n",
       "      <td>224.0</td>\n",
       "      <td>216.0</td>\n",
       "      <td>187.0</td>\n",
       "      <td>2022-10-30</td>\n",
       "      <td>249</td>\n",
       "      <td>230.00</td>\n",
       "    </tr>\n",
       "  </tbody>\n",
       "</table>\n",
       "<p>310 rows × 675 columns</p>\n",
       "</div>"
      ],
      "text/plain": [
       "       rides_previous_672_hour  rides_previous_671_hour  \\\n",
       "7194                     247.0                    186.0   \n",
       "7195                     277.0                    216.0   \n",
       "7201                     318.0                    250.0   \n",
       "7202                     282.0                    233.0   \n",
       "7208                     265.0                    189.0   \n",
       "...                        ...                      ...   \n",
       "38087                    241.0                    333.0   \n",
       "38088                    219.0                    309.0   \n",
       "38093                    259.0                    180.0   \n",
       "38094                    250.0                    334.0   \n",
       "38095                    312.0                    340.0   \n",
       "\n",
       "       rides_previous_670_hour  rides_previous_669_hour  \\\n",
       "7194                     145.0                     83.0   \n",
       "7195                     167.0                    113.0   \n",
       "7201                     167.0                    155.0   \n",
       "7202                     179.0                    131.0   \n",
       "7208                     147.0                    123.0   \n",
       "...                        ...                      ...   \n",
       "38087                    266.0                    180.0   \n",
       "38088                    253.0                    197.0   \n",
       "38093                     88.0                     53.0   \n",
       "38094                    278.0                    185.0   \n",
       "38095                    236.0                    165.0   \n",
       "\n",
       "       rides_previous_668_hour  rides_previous_667_hour  \\\n",
       "7194                      64.0                     33.0   \n",
       "7195                     107.0                     43.0   \n",
       "7201                     100.0                     44.0   \n",
       "7202                     102.0                     44.0   \n",
       "7208                      89.0                     44.0   \n",
       "...                        ...                      ...   \n",
       "38087                     57.0                     11.0   \n",
       "38088                     96.0                     10.0   \n",
       "38093                     15.0                     11.0   \n",
       "38094                     45.0                     11.0   \n",
       "38095                     76.0                     12.0   \n",
       "\n",
       "       rides_previous_666_hour  rides_previous_665_hour  \\\n",
       "7194                      43.0                     68.0   \n",
       "7195                      49.0                     58.0   \n",
       "7201                      66.0                     71.0   \n",
       "7202                      57.0                     70.0   \n",
       "7208                      48.0                     70.0   \n",
       "...                        ...                      ...   \n",
       "38087                      8.0                     26.0   \n",
       "38088                     11.0                     25.0   \n",
       "38093                     19.0                     52.0   \n",
       "38094                      9.0                     28.0   \n",
       "38095                      2.0                     12.0   \n",
       "\n",
       "       rides_previous_664_hour  rides_previous_663_hour  ...  \\\n",
       "7194                      93.0                    170.0  ...   \n",
       "7195                      64.0                    126.0  ...   \n",
       "7201                      77.0                    123.0  ...   \n",
       "7202                      68.0                    138.0  ...   \n",
       "7208                      97.0                    126.0  ...   \n",
       "...                        ...                      ...  ...   \n",
       "38087                     52.0                     57.0  ...   \n",
       "38088                     20.0                     32.0  ...   \n",
       "38093                     74.0                     77.0  ...   \n",
       "38094                     34.0                     51.0  ...   \n",
       "38095                     22.0                     37.0  ...   \n",
       "\n",
       "       rides_previous_7_hour  rides_previous_6_hour  rides_previous_5_hour  \\\n",
       "7194                   196.0                  189.0                  219.0   \n",
       "7195                   225.0                  261.0                  230.0   \n",
       "7201                   213.0                  215.0                  249.0   \n",
       "7202                   209.0                  204.0                  215.0   \n",
       "7208                   188.0                  215.0                  236.0   \n",
       "...                      ...                    ...                    ...   \n",
       "38087                  109.0                  142.0                  202.0   \n",
       "38088                  172.0                  192.0                  237.0   \n",
       "38093                  108.0                  172.0                  164.0   \n",
       "38094                  119.0                  160.0                  207.0   \n",
       "38095                  163.0                  200.0                  237.0   \n",
       "\n",
       "       rides_previous_4_hour  rides_previous_3_hour  rides_previous_2_hour  \\\n",
       "7194                   148.0                  239.0                  298.0   \n",
       "7195                   169.0                  248.0                  296.0   \n",
       "7201                   194.0                  264.0                  268.0   \n",
       "7202                   149.0                  226.0                  284.0   \n",
       "7208                   203.0                  258.0                  299.0   \n",
       "...                      ...                    ...                    ...   \n",
       "38087                  245.0                  254.0                  268.0   \n",
       "38088                  222.0                  275.0                  272.0   \n",
       "38093                  200.0                  233.0                  207.0   \n",
       "38094                  192.0                  212.0                  258.0   \n",
       "38095                  251.0                  224.0                  216.0   \n",
       "\n",
       "       rides_previous_1_hour  pickup_hour  pickup_location_id  \\\n",
       "7194                   347.0   2022-06-04                  48   \n",
       "7195                   299.0   2022-06-05                  48   \n",
       "7201                   297.0   2022-06-11                  48   \n",
       "7202                   263.0   2022-06-12                  48   \n",
       "7208                   274.0   2022-06-18                  48   \n",
       "...                      ...          ...                 ...   \n",
       "38087                  282.0   2022-10-22                 249   \n",
       "38088                  239.0   2022-10-23                 249   \n",
       "38093                  193.0   2022-10-28                 249   \n",
       "38094                  175.0   2022-10-29                 249   \n",
       "38095                  187.0   2022-10-30                 249   \n",
       "\n",
       "       average_rides_last_4_weeks  \n",
       "7194                       274.00  \n",
       "7195                       278.50  \n",
       "7201                       288.25  \n",
       "7202                       287.50  \n",
       "7208                       288.25  \n",
       "...                           ...  \n",
       "38087                      243.50  \n",
       "38088                      223.00  \n",
       "38093                      222.50  \n",
       "38094                      255.00  \n",
       "38095                      230.00  \n",
       "\n",
       "[310 rows x 675 columns]"
      ]
     },
     "execution_count": 28,
     "metadata": {},
     "output_type": "execute_result"
    }
   ],
   "source": [
    "X_test.query('average_rides_last_4_weeks > 200')"
   ]
  },
  {
   "cell_type": "code",
   "execution_count": null,
   "metadata": {},
   "outputs": [],
   "source": []
  }
 ],
 "metadata": {
  "kernelspec": {
   "display_name": "src-EXz78D_B-py3.11",
   "language": "python",
   "name": "python3"
  },
  "language_info": {
   "codemirror_mode": {
    "name": "ipython",
    "version": 3
   },
   "file_extension": ".py",
   "mimetype": "text/x-python",
   "name": "python",
   "nbconvert_exporter": "python",
   "pygments_lexer": "ipython3",
   "version": "3.11.4"
  },
  "orig_nbformat": 4
 },
 "nbformat": 4,
 "nbformat_minor": 2
}
